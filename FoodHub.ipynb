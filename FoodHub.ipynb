{
 "cells": [
  {
   "cell_type": "markdown",
   "id": "23a7cbcc",
   "metadata": {},
   "source": [
    "# FOODHUB FULL CODE PROJECT"
   ]
  },
  {
   "cell_type": "markdown",
   "id": "d96c191e",
   "metadata": {},
   "source": [
    "### Context\n",
    "\n",
    "The number of restaurants in New York is increasing day by day. Lots of students and busy professionals rely on those restaurants due to their hectic lifestyles. Online food delivery service is a great option for them. It provides them with good food from their favorite restaurants. A food aggregator company FoodHub offers access to multiple restaurants through a single smartphone app.\n",
    "\n",
    "The app allows the restaurants to receive a direct online order from a customer. The app assigns a delivery person from the company to pick up the order after it is confirmed by the restaurant. The delivery person then uses the map to reach the restaurant and waits for the food package. Once the food package is handed over to the delivery person, he/she confirms the pick-up in the app and travels to the customer's location to deliver the food. The delivery person confirms the drop-off in the app after delivering the food package to the customer. The customer can rate the order in the app. The food aggregator earns money by collecting a fixed margin of the delivery order from the restaurants.\n",
    "\n",
    "### Objective\n",
    "\n",
    "The food aggregator company has stored the data of the different orders made by the registered customers in their online portal. They want to analyze the data to get a fair idea about the demand of different restaurants which will help them in enhancing their customer experience. Suppose you are hired as a Data Scientist in this company and the Data Science team has shared some of the key questions that need to be answered. Perform the data analysis to find answers to these questions that will help the company to improve the business. \n",
    "\n",
    "\n",
    "### Data Dictionary\n",
    "\n",
    "* order_id: Unique ID of the order\n",
    "* customer_id: ID of the customer who ordered the food\n",
    "* restaurant_name: Name of the restaurant\n",
    "* cuisine_type: Cuisine ordered by the customer\n",
    "* cost: Cost of the order\n",
    "* day_of_the_week: Indicates whether the order is placed on a weekday or weekend (The weekday is from Monday to Friday and the weekend is Saturday and Sunday)\n",
    "* rating: Rating given by the customer out of 5\n",
    "* food_preparation_time: Time (in minutes) taken by the restaurant to prepare the food. This is calculated by * taking the difference between the timestamps of the restaurant's order confirmation and the delivery person's pick-up confirmation.\n",
    "* delivery_time: Time (in minutes) taken by the delivery person to deliver the food package. This is calculated by taking the difference between the timestamps of the delivery person's pick-up confirmation and drop-off information"
   ]
  },
  {
   "cell_type": "code",
   "execution_count": 1,
   "id": "e61acc5f",
   "metadata": {},
   "outputs": [],
   "source": [
    "# Importing of data manipulation and visualization libraries\n",
    "\n",
    "import numpy as np\n",
    "import pandas as pd\n",
    "import seaborn as sns\n",
    "import matplotlib.pyplot as plt\n",
    "sns.set(style='darkgrid')\n",
    "import warnings\n",
    "warnings.filterwarnings('ignore')"
   ]
  },
  {
   "cell_type": "code",
   "execution_count": 2,
   "id": "80f60997",
   "metadata": {},
   "outputs": [
    {
     "data": {
      "text/html": [
       "<div>\n",
       "<style scoped>\n",
       "    .dataframe tbody tr th:only-of-type {\n",
       "        vertical-align: middle;\n",
       "    }\n",
       "\n",
       "    .dataframe tbody tr th {\n",
       "        vertical-align: top;\n",
       "    }\n",
       "\n",
       "    .dataframe thead th {\n",
       "        text-align: right;\n",
       "    }\n",
       "</style>\n",
       "<table border=\"1\" class=\"dataframe\">\n",
       "  <thead>\n",
       "    <tr style=\"text-align: right;\">\n",
       "      <th></th>\n",
       "      <th>order_id</th>\n",
       "      <th>customer_id</th>\n",
       "      <th>restaurant_name</th>\n",
       "      <th>cuisine_type</th>\n",
       "      <th>cost_of_the_order</th>\n",
       "      <th>day_of_the_week</th>\n",
       "      <th>rating</th>\n",
       "      <th>food_preparation_time</th>\n",
       "      <th>delivery_time</th>\n",
       "    </tr>\n",
       "  </thead>\n",
       "  <tbody>\n",
       "    <tr>\n",
       "      <th>0</th>\n",
       "      <td>1477147</td>\n",
       "      <td>337525</td>\n",
       "      <td>Hangawi</td>\n",
       "      <td>Korean</td>\n",
       "      <td>30.75</td>\n",
       "      <td>Weekend</td>\n",
       "      <td>Not given</td>\n",
       "      <td>25</td>\n",
       "      <td>20</td>\n",
       "    </tr>\n",
       "    <tr>\n",
       "      <th>1</th>\n",
       "      <td>1477685</td>\n",
       "      <td>358141</td>\n",
       "      <td>Blue Ribbon Sushi Izakaya</td>\n",
       "      <td>Japanese</td>\n",
       "      <td>12.08</td>\n",
       "      <td>Weekend</td>\n",
       "      <td>Not given</td>\n",
       "      <td>25</td>\n",
       "      <td>23</td>\n",
       "    </tr>\n",
       "    <tr>\n",
       "      <th>2</th>\n",
       "      <td>1477070</td>\n",
       "      <td>66393</td>\n",
       "      <td>Cafe Habana</td>\n",
       "      <td>Mexican</td>\n",
       "      <td>12.23</td>\n",
       "      <td>Weekday</td>\n",
       "      <td>5</td>\n",
       "      <td>23</td>\n",
       "      <td>28</td>\n",
       "    </tr>\n",
       "    <tr>\n",
       "      <th>3</th>\n",
       "      <td>1477334</td>\n",
       "      <td>106968</td>\n",
       "      <td>Blue Ribbon Fried Chicken</td>\n",
       "      <td>American</td>\n",
       "      <td>29.20</td>\n",
       "      <td>Weekend</td>\n",
       "      <td>3</td>\n",
       "      <td>25</td>\n",
       "      <td>15</td>\n",
       "    </tr>\n",
       "    <tr>\n",
       "      <th>4</th>\n",
       "      <td>1478249</td>\n",
       "      <td>76942</td>\n",
       "      <td>Dirty Bird to Go</td>\n",
       "      <td>American</td>\n",
       "      <td>11.59</td>\n",
       "      <td>Weekday</td>\n",
       "      <td>4</td>\n",
       "      <td>25</td>\n",
       "      <td>24</td>\n",
       "    </tr>\n",
       "  </tbody>\n",
       "</table>\n",
       "</div>"
      ],
      "text/plain": [
       "   order_id  customer_id            restaurant_name cuisine_type  \\\n",
       "0   1477147       337525                    Hangawi       Korean   \n",
       "1   1477685       358141  Blue Ribbon Sushi Izakaya     Japanese   \n",
       "2   1477070        66393                Cafe Habana      Mexican   \n",
       "3   1477334       106968  Blue Ribbon Fried Chicken     American   \n",
       "4   1478249        76942           Dirty Bird to Go     American   \n",
       "\n",
       "   cost_of_the_order day_of_the_week     rating  food_preparation_time  \\\n",
       "0              30.75         Weekend  Not given                     25   \n",
       "1              12.08         Weekend  Not given                     25   \n",
       "2              12.23         Weekday          5                     23   \n",
       "3              29.20         Weekend          3                     25   \n",
       "4              11.59         Weekday          4                     25   \n",
       "\n",
       "   delivery_time  \n",
       "0             20  \n",
       "1             23  \n",
       "2             28  \n",
       "3             15  \n",
       "4             24  "
      ]
     },
     "execution_count": 2,
     "metadata": {},
     "output_type": "execute_result"
    }
   ],
   "source": [
    "# Read given data\n",
    "data = pd.read_csv('foodhub_order.csv')\n",
    "\n",
    "# Sample of dataset\n",
    "data.head()"
   ]
  },
  {
   "cell_type": "code",
   "execution_count": 3,
   "id": "47c6b04e",
   "metadata": {},
   "outputs": [
    {
     "data": {
      "text/plain": [
       "(1898, 9)"
      ]
     },
     "execution_count": 3,
     "metadata": {},
     "output_type": "execute_result"
    }
   ],
   "source": [
    "# Question 1: How many rows and columns are present in the data? \n",
    "\n",
    "data.shape"
   ]
  },
  {
   "cell_type": "code",
   "execution_count": 4,
   "id": "e01c1595",
   "metadata": {},
   "outputs": [],
   "source": [
    "# Observation: The foodhub dataset has 1898 rows and 9 columns"
   ]
  },
  {
   "cell_type": "code",
   "execution_count": 5,
   "id": "bf22c509",
   "metadata": {},
   "outputs": [
    {
     "name": "stdout",
     "output_type": "stream",
     "text": [
      "<class 'pandas.core.frame.DataFrame'>\n",
      "RangeIndex: 1898 entries, 0 to 1897\n",
      "Data columns (total 9 columns):\n",
      " #   Column                 Non-Null Count  Dtype  \n",
      "---  ------                 --------------  -----  \n",
      " 0   order_id               1898 non-null   int64  \n",
      " 1   customer_id            1898 non-null   int64  \n",
      " 2   restaurant_name        1898 non-null   object \n",
      " 3   cuisine_type           1898 non-null   object \n",
      " 4   cost_of_the_order      1898 non-null   float64\n",
      " 5   day_of_the_week        1898 non-null   object \n",
      " 6   rating                 1898 non-null   object \n",
      " 7   food_preparation_time  1898 non-null   int64  \n",
      " 8   delivery_time          1898 non-null   int64  \n",
      "dtypes: float64(1), int64(4), object(4)\n",
      "memory usage: 133.6+ KB\n"
     ]
    }
   ],
   "source": [
    "#Question 2: What are the datatypes of the different columns in the dataset?\n",
    "\n",
    "data.info()"
   ]
  },
  {
   "cell_type": "markdown",
   "id": "1fdfd48b",
   "metadata": {},
   "source": [
    "* Observation: Of the 9 variables in the dataset, 4 are object datatype, 4 are integer datatype and just 1 is of float dtataype. They all have a non-null count meaning there are no missing values in any field."
   ]
  },
  {
   "cell_type": "code",
   "execution_count": 7,
   "id": "fe017608",
   "metadata": {},
   "outputs": [
    {
     "name": "stdout",
     "output_type": "stream",
     "text": [
      "<class 'pandas.core.frame.DataFrame'>\n",
      "RangeIndex: 1898 entries, 0 to 1897\n",
      "Data columns (total 9 columns):\n",
      " #   Column                 Non-Null Count  Dtype   \n",
      "---  ------                 --------------  -----   \n",
      " 0   order_id               1898 non-null   int64   \n",
      " 1   customer_id            1898 non-null   int64   \n",
      " 2   restaurant_name        1898 non-null   category\n",
      " 3   cuisine_type           1898 non-null   category\n",
      " 4   cost_of_the_order      1898 non-null   float64 \n",
      " 5   day_of_the_week        1898 non-null   category\n",
      " 6   rating                 1898 non-null   object  \n",
      " 7   food_preparation_time  1898 non-null   int64   \n",
      " 8   delivery_time          1898 non-null   int64   \n",
      "dtypes: category(3), float64(1), int64(4), object(1)\n",
      "memory usage: 102.7+ KB\n"
     ]
    }
   ],
   "source": [
    "# Question 3: 'restaurant_name', 'cuisine_type', 'day_of_the_week' are object type attributes. Convert them to 'category' type. Does this result in reduced memory usage?\n",
    "\n",
    "data.restaurant_name = data.restaurant_name.astype('category')\n",
    "data.cuisine_type = data.cuisine_type.astype('category')\n",
    "data.day_of_the_week = data.day_of_the_week.astype('category')\n",
    "\n",
    "data.info()"
   ]
  },
  {
   "cell_type": "markdown",
   "id": "3f8c7af6",
   "metadata": {},
   "source": [
    " * Observation: The variables 'restaurant_name', 'cuisine_type', and 'day_of_the_week' have been changed from 'object' to 'category' datatype. We see a drop in memory usage from 133.6+ KB to 102.7+ KB. Hence saving 30.9+ KB of memory"
   ]
  },
  {
   "cell_type": "code",
   "execution_count": 9,
   "id": "fff0e3ee",
   "metadata": {},
   "outputs": [
    {
     "data": {
      "text/html": [
       "<div>\n",
       "<style scoped>\n",
       "    .dataframe tbody tr th:only-of-type {\n",
       "        vertical-align: middle;\n",
       "    }\n",
       "\n",
       "    .dataframe tbody tr th {\n",
       "        vertical-align: top;\n",
       "    }\n",
       "\n",
       "    .dataframe thead th {\n",
       "        text-align: right;\n",
       "    }\n",
       "</style>\n",
       "<table border=\"1\" class=\"dataframe\">\n",
       "  <thead>\n",
       "    <tr style=\"text-align: right;\">\n",
       "      <th></th>\n",
       "      <th>order_id</th>\n",
       "      <th>customer_id</th>\n",
       "      <th>cost_of_the_order</th>\n",
       "      <th>food_preparation_time</th>\n",
       "      <th>delivery_time</th>\n",
       "    </tr>\n",
       "  </thead>\n",
       "  <tbody>\n",
       "    <tr>\n",
       "      <th>count</th>\n",
       "      <td>1.898000e+03</td>\n",
       "      <td>1898.000000</td>\n",
       "      <td>1898.000000</td>\n",
       "      <td>1898.000000</td>\n",
       "      <td>1898.000000</td>\n",
       "    </tr>\n",
       "    <tr>\n",
       "      <th>mean</th>\n",
       "      <td>1.477496e+06</td>\n",
       "      <td>171168.478398</td>\n",
       "      <td>16.498851</td>\n",
       "      <td>27.371970</td>\n",
       "      <td>24.161749</td>\n",
       "    </tr>\n",
       "    <tr>\n",
       "      <th>std</th>\n",
       "      <td>5.480497e+02</td>\n",
       "      <td>113698.139743</td>\n",
       "      <td>7.483812</td>\n",
       "      <td>4.632481</td>\n",
       "      <td>4.972637</td>\n",
       "    </tr>\n",
       "    <tr>\n",
       "      <th>min</th>\n",
       "      <td>1.476547e+06</td>\n",
       "      <td>1311.000000</td>\n",
       "      <td>4.470000</td>\n",
       "      <td>20.000000</td>\n",
       "      <td>15.000000</td>\n",
       "    </tr>\n",
       "    <tr>\n",
       "      <th>25%</th>\n",
       "      <td>1.477021e+06</td>\n",
       "      <td>77787.750000</td>\n",
       "      <td>12.080000</td>\n",
       "      <td>23.000000</td>\n",
       "      <td>20.000000</td>\n",
       "    </tr>\n",
       "    <tr>\n",
       "      <th>50%</th>\n",
       "      <td>1.477496e+06</td>\n",
       "      <td>128600.000000</td>\n",
       "      <td>14.140000</td>\n",
       "      <td>27.000000</td>\n",
       "      <td>25.000000</td>\n",
       "    </tr>\n",
       "    <tr>\n",
       "      <th>75%</th>\n",
       "      <td>1.477970e+06</td>\n",
       "      <td>270525.000000</td>\n",
       "      <td>22.297500</td>\n",
       "      <td>31.000000</td>\n",
       "      <td>28.000000</td>\n",
       "    </tr>\n",
       "    <tr>\n",
       "      <th>max</th>\n",
       "      <td>1.478444e+06</td>\n",
       "      <td>405334.000000</td>\n",
       "      <td>35.410000</td>\n",
       "      <td>35.000000</td>\n",
       "      <td>33.000000</td>\n",
       "    </tr>\n",
       "  </tbody>\n",
       "</table>\n",
       "</div>"
      ],
      "text/plain": [
       "           order_id    customer_id  cost_of_the_order  food_preparation_time  \\\n",
       "count  1.898000e+03    1898.000000        1898.000000            1898.000000   \n",
       "mean   1.477496e+06  171168.478398          16.498851              27.371970   \n",
       "std    5.480497e+02  113698.139743           7.483812               4.632481   \n",
       "min    1.476547e+06    1311.000000           4.470000              20.000000   \n",
       "25%    1.477021e+06   77787.750000          12.080000              23.000000   \n",
       "50%    1.477496e+06  128600.000000          14.140000              27.000000   \n",
       "75%    1.477970e+06  270525.000000          22.297500              31.000000   \n",
       "max    1.478444e+06  405334.000000          35.410000              35.000000   \n",
       "\n",
       "       delivery_time  \n",
       "count    1898.000000  \n",
       "mean       24.161749  \n",
       "std         4.972637  \n",
       "min        15.000000  \n",
       "25%        20.000000  \n",
       "50%        25.000000  \n",
       "75%        28.000000  \n",
       "max        33.000000  "
      ]
     },
     "execution_count": 9,
     "metadata": {},
     "output_type": "execute_result"
    }
   ],
   "source": [
    "#Question 4: Check the statistical summary of the data. What is the minimum, average, and maximum time it takes for food to be prepared once an order is placed?\n",
    "\n",
    "data.describe()"
   ]
  },
  {
   "cell_type": "markdown",
   "id": "d6626d5f",
   "metadata": {},
   "source": [
    "* Observations: The above displays the statistical summary of the data. We can infer that the minimum time it takes for food to be prepared once an order is placed is 20 minutes; The maximum time it takes is 35 minutes and it takes approximately 27.4 minutes on average to prepare food."
   ]
  },
  {
   "cell_type": "code",
   "execution_count": 11,
   "id": "6b8a7925",
   "metadata": {},
   "outputs": [
    {
     "data": {
      "text/plain": [
       "Not given    736\n",
       "5            588\n",
       "4            386\n",
       "3            188\n",
       "Name: rating, dtype: int64"
      ]
     },
     "execution_count": 11,
     "metadata": {},
     "output_type": "execute_result"
    }
   ],
   "source": [
    "# Question 5: How many orders are not rated?\n",
    "\n",
    "data.rating.value_counts()"
   ]
  },
  {
   "cell_type": "markdown",
   "id": "da75f0ff",
   "metadata": {},
   "source": [
    "* Observations: Out of the 1898 possible submitted ratings, we see that 736 orders were not rated at all. The remaining 1162 orders received ratings ranging from 3 to 5. "
   ]
  },
  {
   "cell_type": "code",
   "execution_count": 54,
   "id": "c2bd6902",
   "metadata": {},
   "outputs": [
    {
     "name": "stdout",
     "output_type": "stream",
     "text": [
      "Number of unique orders is: 1898\n",
      "Number of unique customer IDs is: 1200\n",
      "Number of unique restaurants is: 178\n"
     ]
    }
   ],
   "source": [
    "# Question 6: Explore all the variables and provide observations on their distributions.\n",
    "\n",
    "# Order ID, Customer ID and Restaurant name\n",
    "\n",
    "# Number of unique order IDs, customer IDs and restaurant names\n",
    "\n",
    "print('Number of unique orders is:', data.order_id.nunique())\n",
    "print('Number of unique customer IDs is:', data.customer_id.nunique())\n",
    "print('Number of unique restaurants is:', data.restaurant_name.nunique())\n"
   ]
  },
  {
   "cell_type": "code",
   "execution_count": 62,
   "id": "a1410051",
   "metadata": {},
   "outputs": [
    {
     "data": {
      "text/plain": [
       "52832     13\n",
       "47440     10\n",
       "83287      9\n",
       "250494     8\n",
       "259341     7\n",
       "Name: customer_id, dtype: int64"
      ]
     },
     "execution_count": 62,
     "metadata": {},
     "output_type": "execute_result"
    }
   ],
   "source": [
    "# Check top 5 customers and restaurants\n",
    "\n",
    "data.customer_id.value_counts().head()"
   ]
  },
  {
   "cell_type": "code",
   "execution_count": 64,
   "id": "553a5983",
   "metadata": {},
   "outputs": [
    {
     "data": {
      "text/plain": [
       "Shake Shack                  219\n",
       "The Meatball Shop            132\n",
       "Blue Ribbon Sushi            119\n",
       "Blue Ribbon Fried Chicken     96\n",
       "Parm                          68\n",
       "Name: restaurant_name, dtype: int64"
      ]
     },
     "execution_count": 64,
     "metadata": {},
     "output_type": "execute_result"
    }
   ],
   "source": [
    "data.restaurant_name.value_counts().head()"
   ]
  },
  {
   "cell_type": "markdown",
   "id": "bbda4a0e",
   "metadata": {},
   "source": [
    "* From the above analysis, we can conclude there are 1898 unique order IDs, 1200 unique customer IDs and 178 unique restaurants. Order and customer IDs are used for identification purposes. The top customer ID with the most orders is ID 52832 with 13 orders. The most ordered from restaurant is Shake Shack with a whopping 219 orders, about 40% more than the second highest restaurant with 132 orders. "
   ]
  },
  {
   "cell_type": "code",
   "execution_count": 81,
   "id": "02c84c9b",
   "metadata": {},
   "outputs": [
    {
     "data": {
      "text/plain": [
       "<AxesSubplot:xlabel='cuisine_type', ylabel='count'>"
      ]
     },
     "execution_count": 81,
     "metadata": {},
     "output_type": "execute_result"
    },
    {
     "data": {
      "image/png": "[encoded data removed]",
      "text/plain": [
       "<Figure size 1080x576 with 1 Axes>"
      ]
     },
     "metadata": {},
     "output_type": "display_data"
    }
   ],
   "source": [
    "# Cuisine type\n",
    "plt.figure(figsize=(15,8))\n",
    "plt.xticks(rotation=90)\n",
    "sns.countplot(data=data, x='cuisine_type', order=data['cuisine_type'].value_counts().index)"
   ]
  },
  {
   "cell_type": "markdown",
   "id": "5e5b767f",
   "metadata": {},
   "source": [
    "* There are 14 distinct cuisine types. American is the most popularly ordered cuisine, followed by Japanese and Italian. The least ordered cuisine type is Vietnamese followed by Spanish."
   ]
  },
  {
   "cell_type": "code",
   "execution_count": 76,
   "id": "b92d9180",
   "metadata": {},
   "outputs": [
    {
     "data": {
      "text/plain": [
       "<AxesSubplot:xlabel='cost_of_the_order', ylabel='Density'>"
      ]
     },
     "execution_count": 76,
     "metadata": {},
     "output_type": "execute_result"
    },
    {
     "data": {
      "image/png": "[encoded data removed]",
      "text/plain": [
       "<Figure size 1152x576 with 1 Axes>"
      ]
     },
     "metadata": {},
     "output_type": "display_data"
    }
   ],
   "source": [
    "#Cost of the order\n",
    "plt.figure(figsize=(16,8))\n",
    "sns.distplot(data['cost_of_the_order'], color='green')"
   ]
  },
  {
   "cell_type": "markdown",
   "id": "665f7cb0",
   "metadata": {},
   "source": [
    "* The cost of order category does not follow a normal distribution with the highest number of orders between 12 dollars and 13 dollars  "
   ]
  },
  {
   "cell_type": "code",
   "execution_count": 79,
   "id": "ca850148",
   "metadata": {},
   "outputs": [
    {
     "data": {
      "text/plain": [
       "<AxesSubplot:xlabel='rating', ylabel='count'>"
      ]
     },
     "execution_count": 79,
     "metadata": {},
     "output_type": "execute_result"
    },
    {
     "data": {
      "image/png": "[encoded data removed]",
      "text/plain": [
       "<Figure size 1080x360 with 1 Axes>"
      ]
     },
     "metadata": {},
     "output_type": "display_data"
    }
   ],
   "source": [
    "# Rating\n",
    "plt.figure(figsize=(15,5))\n",
    "sns.countplot(data=data, x='rating', order=data['rating'].value_counts().index)"
   ]
  },
  {
   "cell_type": "markdown",
   "id": "9b53c54b",
   "metadata": {},
   "source": [
    "* Observation: 736 Ratings not given were the hightest in the rating category, followed by a rating of 5 then a rating of 4, with 3 being the lowest."
   ]
  },
  {
   "cell_type": "code",
   "execution_count": 78,
   "id": "5b8d3bf6",
   "metadata": {},
   "outputs": [
    {
     "data": {
      "text/plain": [
       "27.371970495258168"
      ]
     },
     "execution_count": 78,
     "metadata": {},
     "output_type": "execute_result"
    },
    {
     "data": {
      "text/plain": [
       "<Figure size 1152x576 with 0 Axes>"
      ]
     },
     "metadata": {},
     "output_type": "display_data"
    }
   ],
   "source": [
    "# Food preparation time\n",
    "\n",
    "data.food_preparation_time.mean()"
   ]
  },
  {
   "cell_type": "code",
   "execution_count": 42,
   "id": "2f636510",
   "metadata": {},
   "outputs": [
    {
     "data": {
      "text/plain": [
       "<AxesSubplot:xlabel='food_preparation_time'>"
      ]
     },
     "execution_count": 42,
     "metadata": {},
     "output_type": "execute_result"
    },
    {
     "data": {
      "image/png": "[encoded data removed]",
      "text/plain": [
       "<Figure size 432x288 with 1 Axes>"
      ]
     },
     "metadata": {},
     "output_type": "display_data"
    }
   ],
   "source": [
    "sns.boxplot(data=data, x='food_preparation_time')"
   ]
  },
  {
   "cell_type": "markdown",
   "id": "e0f7adf7",
   "metadata": {},
   "source": [
    "* The median food preparation time is 27 minutes and is around the same value as the mean. The least being 20 minutes and a high of 35 minutes. A lower quartile of 23 minutes and upper quartile of 31 minutes, showing an even (symmetrical) spread from the median. "
   ]
  },
  {
   "cell_type": "code",
   "execution_count": 43,
   "id": "462d080c",
   "metadata": {},
   "outputs": [
    {
     "data": {
      "text/plain": [
       "24.161749209694417"
      ]
     },
     "execution_count": 43,
     "metadata": {},
     "output_type": "execute_result"
    }
   ],
   "source": [
    "# Delivery time\n",
    "\n",
    "data.delivery_time.mean()"
   ]
  },
  {
   "cell_type": "code",
   "execution_count": 44,
   "id": "84ee83ce",
   "metadata": {},
   "outputs": [
    {
     "data": {
      "text/plain": [
       "<AxesSubplot:xlabel='delivery_time'>"
      ]
     },
     "execution_count": 44,
     "metadata": {},
     "output_type": "execute_result"
    },
    {
     "data": {
      "image/png": "[encoded data removed]",
      "text/plain": [
       "<Figure size 432x288 with 1 Axes>"
      ]
     },
     "metadata": {},
     "output_type": "display_data"
    }
   ],
   "source": [
    "sns.boxplot(data=data, x='delivery_time', color='grey')"
   ]
  },
  {
   "cell_type": "markdown",
   "id": "f31cb5ac",
   "metadata": {},
   "source": [
    "* The median delivery time is 25 minutes, which is just slightly higher than the mean, representing a left data skew. Also, from the boxplot we observe a chunk of the orders have delivery time between 15 and 25 minutes, with a min delivery time of 15 minutes and a max of around 34 minutes "
   ]
  },
  {
   "cell_type": "code",
   "execution_count": 86,
   "id": "3e2bcf68",
   "metadata": {},
   "outputs": [
    {
     "data": {
      "text/plain": [
       "<AxesSubplot:xlabel='day_of_the_week', ylabel='count'>"
      ]
     },
     "execution_count": 86,
     "metadata": {},
     "output_type": "execute_result"
    },
    {
     "data": {
      "image/png": "[encoded data removed]",
      "text/plain": [
       "<Figure size 576x360 with 1 Axes>"
      ]
     },
     "metadata": {},
     "output_type": "display_data"
    }
   ],
   "source": [
    "# Day of the week\n",
    "plt.figure(figsize=(8,5))\n",
    "sns.countplot(data=data, x='day_of_the_week')"
   ]
  },
  {
   "cell_type": "markdown",
   "id": "0117c7ad",
   "metadata": {},
   "source": [
    "* The countplot above shows that most orders are made on the weekend, with over 1300 orders (About 70% of total orders) coming in on weekends and a little over 500 coming in on weekdays"
   ]
  },
  {
   "cell_type": "code",
   "execution_count": 14,
   "id": "60de1abd",
   "metadata": {},
   "outputs": [
    {
     "data": {
      "text/plain": [
       "Shake Shack                  219\n",
       "The Meatball Shop            132\n",
       "Blue Ribbon Sushi            119\n",
       "Blue Ribbon Fried Chicken     96\n",
       "Parm                          68\n",
       "Name: restaurant_name, dtype: int64"
      ]
     },
     "execution_count": 14,
     "metadata": {},
     "output_type": "execute_result"
    }
   ],
   "source": [
    "# Question 7: Which are the top 5 restaurants in terms of the number of orders received?\n",
    "\n",
    "data.restaurant_name.value_counts()[0:5]"
   ]
  },
  {
   "cell_type": "markdown",
   "id": "b1861226",
   "metadata": {},
   "source": [
    "* The top 5 restaurants in terms of number of orders in descending order are Shake Shack, The Meatball Shop, Blue Ribbon Sushi, Blue Ribbon Fried Chicken and Parm"
   ]
  },
  {
   "cell_type": "code",
   "execution_count": 16,
   "id": "126cd312",
   "metadata": {},
   "outputs": [
    {
     "data": {
      "text/plain": [
       "American          415\n",
       "Japanese          335\n",
       "Italian           207\n",
       "Chinese           163\n",
       "Mexican            53\n",
       "Indian             49\n",
       "Mediterranean      32\n",
       "Middle Eastern     32\n",
       "Thai               15\n",
       "French             13\n",
       "Korean             11\n",
       "Southern           11\n",
       "Spanish            11\n",
       "Vietnamese          4\n",
       "Name: cuisine_type, dtype: int64"
      ]
     },
     "execution_count": 16,
     "metadata": {},
     "output_type": "execute_result"
    }
   ],
   "source": [
    "# Question 8: Which is the most popular cuisine on weekends?\n",
    "\n",
    "weekend_cuisine = data[data['day_of_the_week']=='Weekend']\n",
    "weekend_cuisine.cuisine_type.value_counts()"
   ]
  },
  {
   "cell_type": "markdown",
   "id": "e9286ca0",
   "metadata": {},
   "source": [
    "* Observation: The most popular cuisine on weekends is American with a total of 415 orders."
   ]
  },
  {
   "cell_type": "code",
   "execution_count": 18,
   "id": "72faa843",
   "metadata": {},
   "outputs": [
    {
     "name": "stdout",
     "output_type": "stream",
     "text": [
      "Total number of orders that cost above $20 is: 555\n"
     ]
    }
   ],
   "source": [
    "# Question 9: What percentage of the orders cost more than 20 dollars?\n",
    "\n",
    "over_20 = data[data['cost_of_the_order'] > 20]\n",
    "print ('Total number of orders that cost above $20 is:', over_20.cost_of_the_order.shape[0])"
   ]
  },
  {
   "cell_type": "code",
   "execution_count": 19,
   "id": "66837184",
   "metadata": {},
   "outputs": [
    {
     "name": "stdout",
     "output_type": "stream",
     "text": [
      "Percentage orders that cost above $20 is: 29.2 %\n"
     ]
    }
   ],
   "source": [
    "percentage_over_20 = over_20.cost_of_the_order.shape[0]/data.shape[0]*100\n",
    "print ('Percentage orders that cost above $20 is:', round(percentage_over_20, 1), '%')"
   ]
  },
  {
   "cell_type": "code",
   "execution_count": 20,
   "id": "a316bb72",
   "metadata": {},
   "outputs": [
    {
     "name": "stdout",
     "output_type": "stream",
     "text": [
      "The mean order delivery time is approximately: 24.2 minutes\n"
     ]
    }
   ],
   "source": [
    "# Question 10: What is the mean order delivery time?\n",
    "\n",
    "t_mean = data.delivery_time.mean()\n",
    "print('The mean order delivery time is approximately:', round(t_mean, 1), 'minutes')"
   ]
  },
  {
   "cell_type": "code",
   "execution_count": 21,
   "id": "f4fb7684",
   "metadata": {},
   "outputs": [
    {
     "data": {
      "text/plain": [
       "52832     13\n",
       "47440     10\n",
       "83287      9\n",
       "250494     8\n",
       "259341     7\n",
       "Name: customer_id, dtype: int64"
      ]
     },
     "execution_count": 21,
     "metadata": {},
     "output_type": "execute_result"
    }
   ],
   "source": [
    "# Question 11: The company has decided to give 20% discount vouchers to the top 5 most frequent customers. Find the IDs of these customers and the number of orders they placed\n",
    "\n",
    "data.customer_id.value_counts()[0:5]"
   ]
  },
  {
   "cell_type": "markdown",
   "id": "4668beb3",
   "metadata": {},
   "source": [
    "* Top 5 customers with the above IDs will receive the 20% discount vouchers "
   ]
  },
  {
   "cell_type": "code",
   "execution_count": 65,
   "id": "51ea3552",
   "metadata": {},
   "outputs": [],
   "source": [
    "# Question 12: Perform a multivariate analysis to explore relationships between the important variables in the dataset. (It is a good idea to explore relations between numerical variables as well as relations between numerical and categorical variables)"
   ]
  },
  {
   "cell_type": "code",
   "execution_count": 88,
   "id": "25217c6b",
   "metadata": {},
   "outputs": [
    {
     "data": {
      "text/plain": [
       "<AxesSubplot:xlabel='cuisine_type', ylabel='cost_of_the_order'>"
      ]
     },
     "execution_count": 88,
     "metadata": {},
     "output_type": "execute_result"
    },
    {
     "data": {
      "image/png": "[encoded data removed]",
      "text/plain": [
       "<Figure size 1152x576 with 1 Axes>"
      ]
     },
     "metadata": {},
     "output_type": "display_data"
    }
   ],
   "source": [
    "# Relationship between quisine type  & cost of order\n",
    "\n",
    "plt.figure(figsize=(16,8))\n",
    "sns.boxplot(data=data, x = 'cuisine_type', y = 'cost_of_the_order')"
   ]
  },
  {
   "cell_type": "markdown",
   "id": "c9d8f4e6",
   "metadata": {},
   "source": [
    "* Observations: The cheapest cuisines are Korean, Mediterranean and Vietnamese. At the same time, they are the only quisines with outliers. The highest cost of order is Mediterranean, which means it must have a dish that's very expensive.French and Spanish cuisines have the highest minimum cost, with all orders costing above $10. even though they have a minimum meal cost above $10 they do not have the most expensive orders. We also notice American, Chinese, Italian and Japanese quisines are similar in miminum, median and maximum costs.  "
   ]
  },
  {
   "cell_type": "code",
   "execution_count": 89,
   "id": "16b3301e",
   "metadata": {},
   "outputs": [
    {
     "data": {
      "text/plain": [
       "<AxesSubplot:xlabel='cuisine_type', ylabel='food_preparation_time'>"
      ]
     },
     "execution_count": 89,
     "metadata": {},
     "output_type": "execute_result"
    },
    {
     "data": {
      "image/png": "[encoded data removed]",
      "text/plain": [
       "<Figure size 1152x576 with 1 Axes>"
      ]
     },
     "metadata": {},
     "output_type": "display_data"
    }
   ],
   "source": [
    "# Relationship between quisine & food preparation time\n",
    "\n",
    "plt.figure(figsize=(16,8))\n",
    "sns.boxplot(data=data, x = 'cuisine_type', y = 'food_preparation_time')"
   ]
  },
  {
   "cell_type": "markdown",
   "id": "9dc53228",
   "metadata": {},
   "source": [
    "* Observations: Korean cuisine is the quicket to prepare compared to all the other cuisines, however with some 2 outliers. Food preparation time is fairly consistent across board, with median preparation time with the range of 24 to 30 minutes. All cuisines but French and Thai have meals that take a relatively lower 20 minutes to prepare."
   ]
  },
  {
   "cell_type": "code",
   "execution_count": 93,
   "id": "8176500f",
   "metadata": {},
   "outputs": [
    {
     "data": {
      "text/plain": [
       "<AxesSubplot:xlabel='day_of_the_week', ylabel='delivery_time'>"
      ]
     },
     "execution_count": 93,
     "metadata": {},
     "output_type": "execute_result"
    },
    {
     "data": {
      "image/png": "[encoded data removed]",
      "text/plain": [
       "<Figure size 720x432 with 1 Axes>"
      ]
     },
     "metadata": {},
     "output_type": "display_data"
    }
   ],
   "source": [
    "# Relationship between day of the week & delivery time\n",
    "\n",
    "plt.figure(figsize=(10,6))\n",
    "sns.boxplot(data=data, x = 'day_of_the_week', y = 'delivery_time')"
   ]
  },
  {
   "cell_type": "markdown",
   "id": "ef558612",
   "metadata": {},
   "source": [
    "* Observations: The delivery time on the weekends is lower than that of weekdays. The fastest weekend order is 15 minutes while that for weekday is around 24 minutes; a disparity of 9 minutes"
   ]
  },
  {
   "cell_type": "code",
   "execution_count": 100,
   "id": "6ebf8666",
   "metadata": {},
   "outputs": [
    {
     "data": {
      "text/plain": [
       "<AxesSubplot:xlabel='rating', ylabel='delivery_time'>"
      ]
     },
     "execution_count": 100,
     "metadata": {},
     "output_type": "execute_result"
    },
    {
     "data": {
      "image/png": "[encoded data removed]",
      "text/plain": [
       "<Figure size 1296x432 with 1 Axes>"
      ]
     },
     "metadata": {},
     "output_type": "display_data"
    }
   ],
   "source": [
    "# Relationship between rating and delivery time\n",
    "plt.figure(figsize=(18,6))\n",
    "sns.pointplot(data=data, x = 'rating', y = 'delivery_time')"
   ]
  },
  {
   "cell_type": "markdown",
   "id": "ba000ea5",
   "metadata": {},
   "source": [
    "* Observation: We can't fully conclude that delivery time affects ratings since a 5 rating has a higher delivery time than a 4 rating. On the other hand a 5 rating has a lower delivery time than a 3 rating, making the analysis inconclusive"
   ]
  },
  {
   "cell_type": "code",
   "execution_count": null,
   "id": "767cea17",
   "metadata": {},
   "outputs": [],
   "source": [
    "# Relationship between rating and food preparation time "
   ]
  },
  {
   "cell_type": "code",
   "execution_count": 102,
   "id": "9162f9d6",
   "metadata": {},
   "outputs": [
    {
     "data": {
      "text/plain": [
       "<AxesSubplot:xlabel='rating', ylabel='food_preparation_time'>"
      ]
     },
     "execution_count": 102,
     "metadata": {},
     "output_type": "execute_result"
    },
    {
     "data": {
      "image/png": "[encoded data removed]",
      "text/plain": [
       "<Figure size 1296x432 with 1 Axes>"
      ]
     },
     "metadata": {},
     "output_type": "display_data"
    }
   ],
   "source": [
    "plt.figure(figsize=(18,6))\n",
    "sns.pointplot(data=data, x = 'rating', y = 'food_preparation_time')"
   ]
  },
  {
   "cell_type": "code",
   "execution_count": 105,
   "id": "86a60db4",
   "metadata": {},
   "outputs": [
    {
     "data": {
      "text/plain": [
       "<AxesSubplot:xlabel='rating', ylabel='cost_of_the_order'>"
      ]
     },
     "execution_count": 105,
     "metadata": {},
     "output_type": "execute_result"
    },
    {
     "data": {
      "image/png": "[encoded data removed]",
      "text/plain": [
       "<Figure size 1296x432 with 1 Axes>"
      ]
     },
     "metadata": {},
     "output_type": "display_data"
    }
   ],
   "source": [
    "plt.figure(figsize=(18,6))\n",
    "sns.pointplot(data=data, x = 'rating', y = 'cost_of_the_order')"
   ]
  },
  {
   "cell_type": "markdown",
   "id": "ca50a9ee",
   "metadata": {},
   "source": [
    "* Observations: It can be observed that high order costs received a good rating while lower cost orders received lower rating. This possibly points to more expensive orders having higher recognition among customers."
   ]
  },
  {
   "cell_type": "code",
   "execution_count": 123,
   "id": "79e1b511",
   "metadata": {
    "scrolled": true
   },
   "outputs": [
    {
     "data": {
      "image/png": "[encoded data removed]",
      "text/plain": [
       "<Figure size 1080x720 with 2 Axes>"
      ]
     },
     "metadata": {},
     "output_type": "display_data"
    }
   ],
   "source": [
    "# Find correlation among all variables using heatmap\n",
    "fig,ax = plt.subplots(figsize=(15, 10))   \n",
    "sns.heatmap(data.corr(), ax=ax, annot=True, linewidths=0.05, fmt= '.2f',cmap=\"magma\") # the color intensity is based on \n",
    "plt.show()"
   ]
  },
  {
   "cell_type": "markdown",
   "id": "ff265a3f",
   "metadata": {},
   "source": [
    "* Observations: Looking at the variables previously analyzed, cost of order, delivery time and food preparation time, we see little to no correlation between these variables. All below 0.05 "
   ]
  },
  {
   "cell_type": "markdown",
   "id": "9818eaa0",
   "metadata": {},
   "source": [
    "* There's not much of a correlation between rating and food preparation time "
   ]
  },
  {
   "cell_type": "code",
   "execution_count": 23,
   "id": "85eed3a3",
   "metadata": {},
   "outputs": [
    {
     "name": "stdout",
     "output_type": "stream",
     "text": [
      "<class 'pandas.core.frame.DataFrame'>\n",
      "Int64Index: 1162 entries, 2 to 1896\n",
      "Data columns (total 9 columns):\n",
      " #   Column                 Non-Null Count  Dtype   \n",
      "---  ------                 --------------  -----   \n",
      " 0   order_id               1162 non-null   int64   \n",
      " 1   customer_id            1162 non-null   int64   \n",
      " 2   restaurant_name        1162 non-null   category\n",
      " 3   cuisine_type           1162 non-null   category\n",
      " 4   cost_of_the_order      1162 non-null   float64 \n",
      " 5   day_of_the_week        1162 non-null   category\n",
      " 6   rating                 1162 non-null   int64   \n",
      " 7   food_preparation_time  1162 non-null   int64   \n",
      " 8   delivery_time          1162 non-null   int64   \n",
      "dtypes: category(3), float64(1), int64(5)\n",
      "memory usage: 74.3 KB\n"
     ]
    }
   ],
   "source": [
    "# Question 13: The company wants to provide a promotional offer in the advertisement of the restaurants. The condition to get the offer is that the restaurants must have a rating count of more than 50 and the average rating should be greater than 4. Find the restaurants fulfilling the criteria to get the promotional offer.\n",
    "\n",
    "# Create new dataset with only restaurants which received actual ratings\n",
    "\n",
    "data_rated = data[data.rating != 'Not given'].copy()\n",
    "\n",
    "# Convert rating column in new dataset to integer datatype\n",
    "\n",
    "data_rated.rating = data_rated.rating.astype('int')\n",
    "\n",
    "# Take a look at new dataset info\n",
    "data_rated.info()"
   ]
  },
  {
   "cell_type": "code",
   "execution_count": 24,
   "id": "b22f7616",
   "metadata": {},
   "outputs": [
    {
     "data": {
      "text/html": [
       "<div>\n",
       "<style scoped>\n",
       "    .dataframe tbody tr th:only-of-type {\n",
       "        vertical-align: middle;\n",
       "    }\n",
       "\n",
       "    .dataframe tbody tr th {\n",
       "        vertical-align: top;\n",
       "    }\n",
       "\n",
       "    .dataframe thead th {\n",
       "        text-align: right;\n",
       "    }\n",
       "</style>\n",
       "<table border=\"1\" class=\"dataframe\">\n",
       "  <thead>\n",
       "    <tr style=\"text-align: right;\">\n",
       "      <th></th>\n",
       "      <th>restaurant_name</th>\n",
       "      <th>rating</th>\n",
       "    </tr>\n",
       "  </thead>\n",
       "  <tbody>\n",
       "    <tr>\n",
       "      <th>0</th>\n",
       "      <td>Shake Shack</td>\n",
       "      <td>133</td>\n",
       "    </tr>\n",
       "    <tr>\n",
       "      <th>1</th>\n",
       "      <td>The Meatball Shop</td>\n",
       "      <td>84</td>\n",
       "    </tr>\n",
       "    <tr>\n",
       "      <th>2</th>\n",
       "      <td>Blue Ribbon Sushi</td>\n",
       "      <td>73</td>\n",
       "    </tr>\n",
       "    <tr>\n",
       "      <th>3</th>\n",
       "      <td>Blue Ribbon Fried Chicken</td>\n",
       "      <td>64</td>\n",
       "    </tr>\n",
       "    <tr>\n",
       "      <th>4</th>\n",
       "      <td>RedFarm Broadway</td>\n",
       "      <td>41</td>\n",
       "    </tr>\n",
       "  </tbody>\n",
       "</table>\n",
       "</div>"
      ],
      "text/plain": [
       "             restaurant_name  rating\n",
       "0                Shake Shack     133\n",
       "1          The Meatball Shop      84\n",
       "2          Blue Ribbon Sushi      73\n",
       "3  Blue Ribbon Fried Chicken      64\n",
       "4           RedFarm Broadway      41"
      ]
     },
     "execution_count": 24,
     "metadata": {},
     "output_type": "execute_result"
    }
   ],
   "source": [
    "# Filter out 'restaurant_name' and 'rating' columns in 'data_rated' dataframe\n",
    "rcounts = data_rated.groupby(['restaurant_name'])['rating'].count().sort_values(ascending=False).reset_index()\n",
    "rcounts.head()"
   ]
  },
  {
   "cell_type": "code",
   "execution_count": 25,
   "id": "9b5bb1e1",
   "metadata": {},
   "outputs": [
    {
     "data": {
      "text/html": [
       "<div>\n",
       "<style scoped>\n",
       "    .dataframe tbody tr th:only-of-type {\n",
       "        vertical-align: middle;\n",
       "    }\n",
       "\n",
       "    .dataframe tbody tr th {\n",
       "        vertical-align: top;\n",
       "    }\n",
       "\n",
       "    .dataframe thead th {\n",
       "        text-align: right;\n",
       "    }\n",
       "</style>\n",
       "<table border=\"1\" class=\"dataframe\">\n",
       "  <thead>\n",
       "    <tr style=\"text-align: right;\">\n",
       "      <th></th>\n",
       "      <th>restaurant_name</th>\n",
       "      <th>rating</th>\n",
       "    </tr>\n",
       "  </thead>\n",
       "  <tbody>\n",
       "    <tr>\n",
       "      <th>66</th>\n",
       "      <td>The Meatball Shop</td>\n",
       "      <td>4.511905</td>\n",
       "    </tr>\n",
       "    <tr>\n",
       "      <th>89</th>\n",
       "      <td>Blue Ribbon Fried Chicken</td>\n",
       "      <td>4.328125</td>\n",
       "    </tr>\n",
       "    <tr>\n",
       "      <th>93</th>\n",
       "      <td>Shake Shack</td>\n",
       "      <td>4.278195</td>\n",
       "    </tr>\n",
       "    <tr>\n",
       "      <th>101</th>\n",
       "      <td>Blue Ribbon Sushi</td>\n",
       "      <td>4.219178</td>\n",
       "    </tr>\n",
       "  </tbody>\n",
       "</table>\n",
       "</div>"
      ],
      "text/plain": [
       "               restaurant_name    rating\n",
       "66           The Meatball Shop  4.511905\n",
       "89   Blue Ribbon Fried Chicken  4.328125\n",
       "93                 Shake Shack  4.278195\n",
       "101          Blue Ribbon Sushi  4.219178"
      ]
     },
     "execution_count": 25,
     "metadata": {},
     "output_type": "execute_result"
    }
   ],
   "source": [
    "# Find restaurants with rating count greater than 50\n",
    "r50 = rcounts[rcounts['rating']>50]['restaurant_name']\n",
    "\n",
    "# Find mean of ratings of all restaurants in 'data_rated' dataframe\n",
    "mean_rating=data_rated.groupby(['restaurant_name'])['rating'].mean().sort_values(ascending=False).reset_index()\n",
    "\n",
    "# Cross reference 'mean_rating' dataset with 'r50' dataset to find restaurants with rating counts over 50 and mean rating greater than 4\n",
    "mean_rating[mean_rating['restaurant_name'].isin(r50)]"
   ]
  },
  {
   "cell_type": "markdown",
   "id": "5a7ebec1",
   "metadata": {},
   "source": [
    "* Observation: There are 4 restaurants that meet the criteria to win the promotional offer. They are; 'The Meatball Shop', 'Blue Ribbon Fried Chicken', 'Shake Shack' and 'Blue Ribbon Sushi'"
   ]
  },
  {
   "cell_type": "code",
   "execution_count": 27,
   "id": "8a789813",
   "metadata": {},
   "outputs": [
    {
     "data": {
      "text/html": [
       "<div>\n",
       "<style scoped>\n",
       "    .dataframe tbody tr th:only-of-type {\n",
       "        vertical-align: middle;\n",
       "    }\n",
       "\n",
       "    .dataframe tbody tr th {\n",
       "        vertical-align: top;\n",
       "    }\n",
       "\n",
       "    .dataframe thead th {\n",
       "        text-align: right;\n",
       "    }\n",
       "</style>\n",
       "<table border=\"1\" class=\"dataframe\">\n",
       "  <thead>\n",
       "    <tr style=\"text-align: right;\">\n",
       "      <th></th>\n",
       "      <th>order_id</th>\n",
       "      <th>customer_id</th>\n",
       "      <th>restaurant_name</th>\n",
       "      <th>cuisine_type</th>\n",
       "      <th>cost_of_the_order</th>\n",
       "      <th>day_of_the_week</th>\n",
       "      <th>rating</th>\n",
       "      <th>food_preparation_time</th>\n",
       "      <th>delivery_time</th>\n",
       "      <th>Revenue</th>\n",
       "    </tr>\n",
       "  </thead>\n",
       "  <tbody>\n",
       "    <tr>\n",
       "      <th>0</th>\n",
       "      <td>1477147</td>\n",
       "      <td>337525</td>\n",
       "      <td>Hangawi</td>\n",
       "      <td>Korean</td>\n",
       "      <td>30.75</td>\n",
       "      <td>Weekend</td>\n",
       "      <td>Not given</td>\n",
       "      <td>25</td>\n",
       "      <td>20</td>\n",
       "      <td>7.6875</td>\n",
       "    </tr>\n",
       "    <tr>\n",
       "      <th>1</th>\n",
       "      <td>1477685</td>\n",
       "      <td>358141</td>\n",
       "      <td>Blue Ribbon Sushi Izakaya</td>\n",
       "      <td>Japanese</td>\n",
       "      <td>12.08</td>\n",
       "      <td>Weekend</td>\n",
       "      <td>Not given</td>\n",
       "      <td>25</td>\n",
       "      <td>23</td>\n",
       "      <td>1.8120</td>\n",
       "    </tr>\n",
       "    <tr>\n",
       "      <th>2</th>\n",
       "      <td>1477070</td>\n",
       "      <td>66393</td>\n",
       "      <td>Cafe Habana</td>\n",
       "      <td>Mexican</td>\n",
       "      <td>12.23</td>\n",
       "      <td>Weekday</td>\n",
       "      <td>5</td>\n",
       "      <td>23</td>\n",
       "      <td>28</td>\n",
       "      <td>1.8345</td>\n",
       "    </tr>\n",
       "    <tr>\n",
       "      <th>3</th>\n",
       "      <td>1477334</td>\n",
       "      <td>106968</td>\n",
       "      <td>Blue Ribbon Fried Chicken</td>\n",
       "      <td>American</td>\n",
       "      <td>29.20</td>\n",
       "      <td>Weekend</td>\n",
       "      <td>3</td>\n",
       "      <td>25</td>\n",
       "      <td>15</td>\n",
       "      <td>7.3000</td>\n",
       "    </tr>\n",
       "    <tr>\n",
       "      <th>4</th>\n",
       "      <td>1478249</td>\n",
       "      <td>76942</td>\n",
       "      <td>Dirty Bird to Go</td>\n",
       "      <td>American</td>\n",
       "      <td>11.59</td>\n",
       "      <td>Weekday</td>\n",
       "      <td>4</td>\n",
       "      <td>25</td>\n",
       "      <td>24</td>\n",
       "      <td>1.7385</td>\n",
       "    </tr>\n",
       "  </tbody>\n",
       "</table>\n",
       "</div>"
      ],
      "text/plain": [
       "   order_id  customer_id            restaurant_name cuisine_type  \\\n",
       "0   1477147       337525                    Hangawi       Korean   \n",
       "1   1477685       358141  Blue Ribbon Sushi Izakaya     Japanese   \n",
       "2   1477070        66393                Cafe Habana      Mexican   \n",
       "3   1477334       106968  Blue Ribbon Fried Chicken     American   \n",
       "4   1478249        76942           Dirty Bird to Go     American   \n",
       "\n",
       "   cost_of_the_order day_of_the_week     rating  food_preparation_time  \\\n",
       "0              30.75         Weekend  Not given                     25   \n",
       "1              12.08         Weekend  Not given                     25   \n",
       "2              12.23         Weekday          5                     23   \n",
       "3              29.20         Weekend          3                     25   \n",
       "4              11.59         Weekday          4                     25   \n",
       "\n",
       "   delivery_time  Revenue  \n",
       "0             20   7.6875  \n",
       "1             23   1.8120  \n",
       "2             28   1.8345  \n",
       "3             15   7.3000  \n",
       "4             24   1.7385  "
      ]
     },
     "execution_count": 27,
     "metadata": {},
     "output_type": "execute_result"
    }
   ],
   "source": [
    "# Question 14: The company charges the restaurant 25% on the orders having cost greater than 20 dollars and 15% on the orders having cost greater than 5 dollars. Find the net revenue generated by the company across all orders.\n",
    "\n",
    "# Define a function to calculate revenue\n",
    "def new(x):\n",
    "    if x > 20:\n",
    "        return x*0.25\n",
    "    elif x > 5:\n",
    "        return x*0.15\n",
    "    else:\n",
    "        return x*0\n",
    "\n",
    "data['Revenue'] = data.cost_of_the_order.apply(new)\n",
    "\n",
    "# View sample of new dataframe\n",
    "data.head()"
   ]
  },
  {
   "cell_type": "code",
   "execution_count": 28,
   "id": "be09fef6",
   "metadata": {},
   "outputs": [
    {
     "name": "stdout",
     "output_type": "stream",
     "text": [
      "Net revenue generated by the company is approximately: $ 6166.3\n"
     ]
    }
   ],
   "source": [
    "# Find sum of all revenue\n",
    "\n",
    "net_revenue = data.Revenue.sum()\n",
    "print('Net revenue generated by the company is approximately: $', round(net_revenue, 2))"
   ]
  },
  {
   "cell_type": "code",
   "execution_count": 29,
   "id": "4ffa907c",
   "metadata": {},
   "outputs": [
    {
     "data": {
      "text/html": [
       "<div>\n",
       "<style scoped>\n",
       "    .dataframe tbody tr th:only-of-type {\n",
       "        vertical-align: middle;\n",
       "    }\n",
       "\n",
       "    .dataframe tbody tr th {\n",
       "        vertical-align: top;\n",
       "    }\n",
       "\n",
       "    .dataframe thead th {\n",
       "        text-align: right;\n",
       "    }\n",
       "</style>\n",
       "<table border=\"1\" class=\"dataframe\">\n",
       "  <thead>\n",
       "    <tr style=\"text-align: right;\">\n",
       "      <th></th>\n",
       "      <th>order_id</th>\n",
       "      <th>customer_id</th>\n",
       "      <th>restaurant_name</th>\n",
       "      <th>cuisine_type</th>\n",
       "      <th>cost_of_the_order</th>\n",
       "      <th>day_of_the_week</th>\n",
       "      <th>rating</th>\n",
       "      <th>food_preparation_time</th>\n",
       "      <th>delivery_time</th>\n",
       "      <th>Revenue</th>\n",
       "      <th>total_time</th>\n",
       "    </tr>\n",
       "  </thead>\n",
       "  <tbody>\n",
       "    <tr>\n",
       "      <th>0</th>\n",
       "      <td>1477147</td>\n",
       "      <td>337525</td>\n",
       "      <td>Hangawi</td>\n",
       "      <td>Korean</td>\n",
       "      <td>30.75</td>\n",
       "      <td>Weekend</td>\n",
       "      <td>Not given</td>\n",
       "      <td>25</td>\n",
       "      <td>20</td>\n",
       "      <td>7.6875</td>\n",
       "      <td>45</td>\n",
       "    </tr>\n",
       "    <tr>\n",
       "      <th>1</th>\n",
       "      <td>1477685</td>\n",
       "      <td>358141</td>\n",
       "      <td>Blue Ribbon Sushi Izakaya</td>\n",
       "      <td>Japanese</td>\n",
       "      <td>12.08</td>\n",
       "      <td>Weekend</td>\n",
       "      <td>Not given</td>\n",
       "      <td>25</td>\n",
       "      <td>23</td>\n",
       "      <td>1.8120</td>\n",
       "      <td>48</td>\n",
       "    </tr>\n",
       "    <tr>\n",
       "      <th>2</th>\n",
       "      <td>1477070</td>\n",
       "      <td>66393</td>\n",
       "      <td>Cafe Habana</td>\n",
       "      <td>Mexican</td>\n",
       "      <td>12.23</td>\n",
       "      <td>Weekday</td>\n",
       "      <td>5</td>\n",
       "      <td>23</td>\n",
       "      <td>28</td>\n",
       "      <td>1.8345</td>\n",
       "      <td>51</td>\n",
       "    </tr>\n",
       "    <tr>\n",
       "      <th>3</th>\n",
       "      <td>1477334</td>\n",
       "      <td>106968</td>\n",
       "      <td>Blue Ribbon Fried Chicken</td>\n",
       "      <td>American</td>\n",
       "      <td>29.20</td>\n",
       "      <td>Weekend</td>\n",
       "      <td>3</td>\n",
       "      <td>25</td>\n",
       "      <td>15</td>\n",
       "      <td>7.3000</td>\n",
       "      <td>40</td>\n",
       "    </tr>\n",
       "    <tr>\n",
       "      <th>4</th>\n",
       "      <td>1478249</td>\n",
       "      <td>76942</td>\n",
       "      <td>Dirty Bird to Go</td>\n",
       "      <td>American</td>\n",
       "      <td>11.59</td>\n",
       "      <td>Weekday</td>\n",
       "      <td>4</td>\n",
       "      <td>25</td>\n",
       "      <td>24</td>\n",
       "      <td>1.7385</td>\n",
       "      <td>49</td>\n",
       "    </tr>\n",
       "  </tbody>\n",
       "</table>\n",
       "</div>"
      ],
      "text/plain": [
       "   order_id  customer_id            restaurant_name cuisine_type  \\\n",
       "0   1477147       337525                    Hangawi       Korean   \n",
       "1   1477685       358141  Blue Ribbon Sushi Izakaya     Japanese   \n",
       "2   1477070        66393                Cafe Habana      Mexican   \n",
       "3   1477334       106968  Blue Ribbon Fried Chicken     American   \n",
       "4   1478249        76942           Dirty Bird to Go     American   \n",
       "\n",
       "   cost_of_the_order day_of_the_week     rating  food_preparation_time  \\\n",
       "0              30.75         Weekend  Not given                     25   \n",
       "1              12.08         Weekend  Not given                     25   \n",
       "2              12.23         Weekday          5                     23   \n",
       "3              29.20         Weekend          3                     25   \n",
       "4              11.59         Weekday          4                     25   \n",
       "\n",
       "   delivery_time  Revenue  total_time  \n",
       "0             20   7.6875          45  \n",
       "1             23   1.8120          48  \n",
       "2             28   1.8345          51  \n",
       "3             15   7.3000          40  \n",
       "4             24   1.7385          49  "
      ]
     },
     "execution_count": 29,
     "metadata": {},
     "output_type": "execute_result"
    }
   ],
   "source": [
    "# Question 15: The company wants to analyze the total time required to deliver the food. What percentage of orders take more than 60 minutes to get delivered from the time the order is placed? (The food has to be prepared and then delivered.\n",
    "\n",
    "# total time = prep time + delivery time\n",
    "# Add total time column to dataset\n",
    "\n",
    "data['total_time'] = data.food_preparation_time + data.delivery_time\n",
    "data.head()"
   ]
  },
  {
   "cell_type": "code",
   "execution_count": 30,
   "id": "829007af",
   "metadata": {},
   "outputs": [
    {
     "name": "stdout",
     "output_type": "stream",
     "text": [
      "Orders that take more than 60 mins total : 200 orders\n"
     ]
    }
   ],
   "source": [
    "over_60 = data[data['total_time'] > 60]\n",
    "print ('Orders that take more than 60 mins total :', over_60.total_time.shape[0], 'orders')"
   ]
  },
  {
   "cell_type": "code",
   "execution_count": 31,
   "id": "25ed9ce2",
   "metadata": {},
   "outputs": [
    {
     "name": "stdout",
     "output_type": "stream",
     "text": [
      "Percentage of orders that take more than 60 mins total: 10.5 %\n"
     ]
    }
   ],
   "source": [
    "percentage_over_60 = over_60.total_time.shape[0]/data.shape[0]*100\n",
    "print ('Percentage of orders that take more than 60 mins total:', round(percentage_over_60, 1), '%')"
   ]
  },
  {
   "cell_type": "code",
   "execution_count": 33,
   "id": "9c8924a0",
   "metadata": {},
   "outputs": [
    {
     "name": "stdout",
     "output_type": "stream",
     "text": [
      "The mean delivery time on weekdays is about 28 minutes\n",
      "The mean delivery time on weekends is about 22 minutes\n"
     ]
    }
   ],
   "source": [
    "# Question 16: The company wants to analyze the delivery time of the orders on weekdays and weekends. How does the mean delivery time vary during weekdays and weekends?\n",
    "\n",
    "# Mean delivery time on weekdays\n",
    "print('The mean delivery time on weekdays is about', \n",
    "      round(data[data['day_of_the_week'] == 'Weekday']['delivery_time'].mean()),\n",
    "     'minutes')\n",
    "\n",
    "# Mean delivery time on weekends \n",
    "print('The mean delivery time on weekends is about', \n",
    "      round(data[data['day_of_the_week'] == 'Weekend']['delivery_time'].mean()),\n",
    "     'minutes')"
   ]
  },
  {
   "cell_type": "code",
   "execution_count": 34,
   "id": "41d0d413",
   "metadata": {},
   "outputs": [
    {
     "data": {
      "text/plain": [
       "<AxesSubplot:xlabel='day_of_the_week', ylabel='delivery_time'>"
      ]
     },
     "execution_count": 34,
     "metadata": {},
     "output_type": "execute_result"
    },
    {
     "data": {
      "image/png": "[encoded data removed]",
      "text/plain": [
       "<Figure size 432x288 with 1 Axes>"
      ]
     },
     "metadata": {},
     "output_type": "display_data"
    }
   ],
   "source": [
    "sns.boxplot(data=data, x='day_of_the_week', y='delivery_time' )"
   ]
  },
  {
   "cell_type": "markdown",
   "id": "4d45f06c",
   "metadata": {},
   "source": [
    "* The above boxplot also gives a visual confirmation that the mean delivery time on weekdays (28mins) is higher than the mean delivery time on weekends (22mins)"
   ]
  },
  {
   "cell_type": "code",
   "execution_count": null,
   "id": "5828bf13",
   "metadata": {},
   "outputs": [],
   "source": [
    "# Question 17: What are your conclusions from the analysis? What recommendations would you like to share to help improve the business? (You can use cuisine type and feedback ratings to drive your business recommendations.)"
   ]
  },
  {
   "cell_type": "markdown",
   "id": "f0bdac5b",
   "metadata": {},
   "source": [
    "* The Foodhub should keep up the incentive of promotional offers to the highest performing restaurants. This will serve as a great motivator for restaurants to provide top notch service for customers.We see from the plots above that delivery time on weekdays is not as good as on weekends. Providing incentives for delivery services on weekdays will provide a pathway for matching up to weekend delivery times. As customer rating could not be related to other variables to a high extent, ratings could be elaborated further to enable customers to provide further reasons why they chose a certain rating number to let businesses see where they could improve on to get better ratings. Finally, the Foodhub should collaborate with already high grossing restaurants to rake in more revenue as they have a high accpetance among customers and work with lower grossing restaurants to get their numbers up as this benefits all parties in the long run. "
   ]
  },
  {
   "cell_type": "code",
   "execution_count": null,
   "id": "3d19436c",
   "metadata": {},
   "outputs": [],
   "source": []
  }
 ],
 "metadata": {
  "kernelspec": {
   "display_name": "Python 3 (ipykernel)",
   "language": "python",
   "name": "python3"
  },
  "language_info": {
   "codemirror_mode": {
    "name": "ipython",
    "version": 3
   },
   "file_extension": ".py",
   "mimetype": "text/x-python",
   "name": "python",
   "nbconvert_exporter": "python",
   "pygments_lexer": "ipython3",
   "version": "3.9.7"
  }
 },
 "nbformat": 4,
 "nbformat_minor": 5
}
