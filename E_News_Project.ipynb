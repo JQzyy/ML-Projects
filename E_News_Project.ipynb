{
 "cells": [
  {
   "cell_type": "markdown",
   "id": "baabc1c9",
   "metadata": {},
   "source": [
    "# E-NEWS FULL CODE PROJECT"
   ]
  },
  {
   "cell_type": "markdown",
   "id": "2c474eba",
   "metadata": {},
   "source": [
    "### Background: \n",
    "\n",
    "An online news portal aims to expand its business by acquiring new subscribers. Every visitor to the website takes certain actions based on their interest. The company plans to analyze these interests and wants to determine whether a new feature will be effective or not. Companies often analyze users' responses to two variants of a product to decide which of the two variants is more effective. This experimental technique is known as a/b testing that is used to determine whether a new feature attracts users based on a chosen metric.\n",
    "\n",
    "Suppose you are hired as a Data Scientist in E-news Express. The design team of the company has created a new landing page. You have been assigned the task to decide whether the new landing page is more effective to gather new subscribers. Suppose you randomly selected 100 users and divided them equally into two groups. The old landing page is served to the first group (control group) and the new landing page is served to the second group (treatment group). Various data about the customers in both groups are collected in 'abtest.csv'. Perform the statistical analysis to answer the following questions using the collected data.\n",
    "\n",
    "### Objective:\n",
    "\n",
    "Statistical analysis of business data. Explore the dataset and extract insights from the data. The idea is for you to get comfortable with doing statistical analysis in Python.\n",
    "\n",
    "You are expected to perform the statistical analysis to answer the following questions:\n",
    "\n",
    "Explore the dataset and extract insights using Exploratory Data Analysis.\n",
    "Do the users spend more time on the new landing page than the old landing page?\n",
    "Is the conversion rate (the proportion of users who visit the landing page and get converted) for the new page greater than the conversion rate for the old page?\n",
    "Does the converted status depend on the preferred language? [Hint: Create a contingency table using the pandas.crosstab() function]\n",
    "Is the mean time spent on the new page same for the different language users?\n",
    "*Consider a significance level of 0.05 for all tests.\n",
    "\n",
    "#### Data Dictionary:\n",
    "\n",
    "* user_id - This represents the user ID of the person visiting the website.\n",
    "* group - This represents whether the user belongs to the first group (control) or the second group (treatment).\n",
    "* landing_page - This represents whether the landing page is new or old.\n",
    "* time_spent_on_the_page - This represents the time (in minutes) spent by the user on the landing page.\n",
    "* converted - This represents whether the user gets converted to a subscriber of the news portal or not.\n",
    "* language_preferred - This represents the language chosen by the user to view the landing page.\n"
   ]
  },
  {
   "cell_type": "code",
   "execution_count": 1,
   "id": "ea395c44",
   "metadata": {},
   "outputs": [],
   "source": [
    "# Import necessary libraries\n",
    "\n",
    "import numpy as np\n",
    "import pandas as pd\n",
    "import seaborn as sns\n",
    "import matplotlib.pyplot as plt\n",
    "sns.set(style='darkgrid')\n",
    "import warnings\n",
    "warnings.filterwarnings('ignore')\n",
    "import scipy.stats as stats"
   ]
  },
  {
   "cell_type": "markdown",
   "id": "48d3ff48",
   "metadata": {},
   "source": [
    "# Question 1. Explore the dataset and extract insights using Exploratory Data Analysis."
   ]
  },
  {
   "cell_type": "code",
   "execution_count": 2,
   "id": "b1145d52",
   "metadata": {},
   "outputs": [
    {
     "data": {
      "text/html": [
       "<div>\n",
       "<style scoped>\n",
       "    .dataframe tbody tr th:only-of-type {\n",
       "        vertical-align: middle;\n",
       "    }\n",
       "\n",
       "    .dataframe tbody tr th {\n",
       "        vertical-align: top;\n",
       "    }\n",
       "\n",
       "    .dataframe thead th {\n",
       "        text-align: right;\n",
       "    }\n",
       "</style>\n",
       "<table border=\"1\" class=\"dataframe\">\n",
       "  <thead>\n",
       "    <tr style=\"text-align: right;\">\n",
       "      <th></th>\n",
       "      <th>user_id</th>\n",
       "      <th>group</th>\n",
       "      <th>landing_page</th>\n",
       "      <th>time_spent_on_the_page</th>\n",
       "      <th>converted</th>\n",
       "      <th>language_preferred</th>\n",
       "    </tr>\n",
       "  </thead>\n",
       "  <tbody>\n",
       "    <tr>\n",
       "      <th>0</th>\n",
       "      <td>546592</td>\n",
       "      <td>control</td>\n",
       "      <td>old</td>\n",
       "      <td>3.48</td>\n",
       "      <td>no</td>\n",
       "      <td>Spanish</td>\n",
       "    </tr>\n",
       "    <tr>\n",
       "      <th>1</th>\n",
       "      <td>546468</td>\n",
       "      <td>treatment</td>\n",
       "      <td>new</td>\n",
       "      <td>7.13</td>\n",
       "      <td>yes</td>\n",
       "      <td>English</td>\n",
       "    </tr>\n",
       "    <tr>\n",
       "      <th>2</th>\n",
       "      <td>546462</td>\n",
       "      <td>treatment</td>\n",
       "      <td>new</td>\n",
       "      <td>4.40</td>\n",
       "      <td>no</td>\n",
       "      <td>Spanish</td>\n",
       "    </tr>\n",
       "    <tr>\n",
       "      <th>3</th>\n",
       "      <td>546567</td>\n",
       "      <td>control</td>\n",
       "      <td>old</td>\n",
       "      <td>3.02</td>\n",
       "      <td>no</td>\n",
       "      <td>French</td>\n",
       "    </tr>\n",
       "    <tr>\n",
       "      <th>4</th>\n",
       "      <td>546459</td>\n",
       "      <td>treatment</td>\n",
       "      <td>new</td>\n",
       "      <td>4.75</td>\n",
       "      <td>yes</td>\n",
       "      <td>Spanish</td>\n",
       "    </tr>\n",
       "  </tbody>\n",
       "</table>\n",
       "</div>"
      ],
      "text/plain": [
       "   user_id      group landing_page  time_spent_on_the_page converted  \\\n",
       "0   546592    control          old                    3.48        no   \n",
       "1   546468  treatment          new                    7.13       yes   \n",
       "2   546462  treatment          new                    4.40        no   \n",
       "3   546567    control          old                    3.02        no   \n",
       "4   546459  treatment          new                    4.75       yes   \n",
       "\n",
       "  language_preferred  \n",
       "0            Spanish  \n",
       "1            English  \n",
       "2            Spanish  \n",
       "3             French  \n",
       "4            Spanish  "
      ]
     },
     "execution_count": 2,
     "metadata": {},
     "output_type": "execute_result"
    }
   ],
   "source": [
    "# Read given data and dissect\n",
    "\n",
    "data = pd.read_csv('abtest.csv')\n",
    "\n",
    "data.head()"
   ]
  },
  {
   "cell_type": "code",
   "execution_count": 3,
   "id": "6c923835",
   "metadata": {},
   "outputs": [
    {
     "data": {
      "text/plain": [
       "(100, 6)"
      ]
     },
     "execution_count": 3,
     "metadata": {},
     "output_type": "execute_result"
    }
   ],
   "source": [
    "data.shape"
   ]
  },
  {
   "cell_type": "markdown",
   "id": "0e42de2f",
   "metadata": {},
   "source": [
    "#### Observation: The abtest dataframe has 100 rows and 6 columns"
   ]
  },
  {
   "cell_type": "code",
   "execution_count": 4,
   "id": "45a5eb63",
   "metadata": {},
   "outputs": [
    {
     "name": "stdout",
     "output_type": "stream",
     "text": [
      "<class 'pandas.core.frame.DataFrame'>\n",
      "RangeIndex: 100 entries, 0 to 99\n",
      "Data columns (total 6 columns):\n",
      " #   Column                  Non-Null Count  Dtype  \n",
      "---  ------                  --------------  -----  \n",
      " 0   user_id                 100 non-null    int64  \n",
      " 1   group                   100 non-null    object \n",
      " 2   landing_page            100 non-null    object \n",
      " 3   time_spent_on_the_page  100 non-null    float64\n",
      " 4   converted               100 non-null    object \n",
      " 5   language_preferred      100 non-null    object \n",
      "dtypes: float64(1), int64(1), object(4)\n",
      "memory usage: 4.8+ KB\n"
     ]
    }
   ],
   "source": [
    "data.info()"
   ]
  },
  {
   "cell_type": "code",
   "execution_count": 5,
   "id": "5e926e0d",
   "metadata": {},
   "outputs": [
    {
     "data": {
      "text/plain": [
       "user_id  group  landing_page  time_spent_on_the_page  converted  language_preferred\n",
       "False    False  False         False                   False      False                 100\n",
       "dtype: int64"
      ]
     },
     "execution_count": 5,
     "metadata": {},
     "output_type": "execute_result"
    }
   ],
   "source": [
    "data.isnull().value_counts()"
   ]
  },
  {
   "cell_type": "markdown",
   "id": "560eb227",
   "metadata": {},
   "source": [
    "#### Observation: There are 6 variables in the dataframe. 4 are object datatype, 1 is float and 1 is integer datatype as shown above. There are no also no missing values in the dataframe"
   ]
  },
  {
   "cell_type": "code",
   "execution_count": 6,
   "id": "3a775052",
   "metadata": {},
   "outputs": [],
   "source": [
    "data.group = data.group.astype('category')\n",
    "data.landing_page = data.landing_page.astype('category')\n",
    "data.converted = data.converted.astype('category')\n",
    "data.language_preferred = data.language_preferred.astype('category')"
   ]
  },
  {
   "cell_type": "code",
   "execution_count": 7,
   "id": "be6582e8",
   "metadata": {},
   "outputs": [
    {
     "name": "stdout",
     "output_type": "stream",
     "text": [
      "<class 'pandas.core.frame.DataFrame'>\n",
      "RangeIndex: 100 entries, 0 to 99\n",
      "Data columns (total 6 columns):\n",
      " #   Column                  Non-Null Count  Dtype   \n",
      "---  ------                  --------------  -----   \n",
      " 0   user_id                 100 non-null    int64   \n",
      " 1   group                   100 non-null    category\n",
      " 2   landing_page            100 non-null    category\n",
      " 3   time_spent_on_the_page  100 non-null    float64 \n",
      " 4   converted               100 non-null    category\n",
      " 5   language_preferred      100 non-null    category\n",
      "dtypes: category(4), float64(1), int64(1)\n",
      "memory usage: 2.6 KB\n"
     ]
    }
   ],
   "source": [
    "data.info()"
   ]
  },
  {
   "cell_type": "markdown",
   "id": "3736ad82",
   "metadata": {},
   "source": [
    "#### Observation: All object datatype have been changed to category datatype. Memory usage reduction of 2.2 KB"
   ]
  },
  {
   "cell_type": "code",
   "execution_count": 8,
   "id": "ba14d0c3",
   "metadata": {},
   "outputs": [
    {
     "data": {
      "text/html": [
       "<div>\n",
       "<style scoped>\n",
       "    .dataframe tbody tr th:only-of-type {\n",
       "        vertical-align: middle;\n",
       "    }\n",
       "\n",
       "    .dataframe tbody tr th {\n",
       "        vertical-align: top;\n",
       "    }\n",
       "\n",
       "    .dataframe thead th {\n",
       "        text-align: right;\n",
       "    }\n",
       "</style>\n",
       "<table border=\"1\" class=\"dataframe\">\n",
       "  <thead>\n",
       "    <tr style=\"text-align: right;\">\n",
       "      <th></th>\n",
       "      <th>user_id</th>\n",
       "      <th>time_spent_on_the_page</th>\n",
       "    </tr>\n",
       "  </thead>\n",
       "  <tbody>\n",
       "    <tr>\n",
       "      <th>count</th>\n",
       "      <td>100.000000</td>\n",
       "      <td>100.000000</td>\n",
       "    </tr>\n",
       "    <tr>\n",
       "      <th>mean</th>\n",
       "      <td>546517.000000</td>\n",
       "      <td>5.377800</td>\n",
       "    </tr>\n",
       "    <tr>\n",
       "      <th>std</th>\n",
       "      <td>52.295779</td>\n",
       "      <td>2.378166</td>\n",
       "    </tr>\n",
       "    <tr>\n",
       "      <th>min</th>\n",
       "      <td>546443.000000</td>\n",
       "      <td>0.190000</td>\n",
       "    </tr>\n",
       "    <tr>\n",
       "      <th>25%</th>\n",
       "      <td>546467.750000</td>\n",
       "      <td>3.880000</td>\n",
       "    </tr>\n",
       "    <tr>\n",
       "      <th>50%</th>\n",
       "      <td>546492.500000</td>\n",
       "      <td>5.415000</td>\n",
       "    </tr>\n",
       "    <tr>\n",
       "      <th>75%</th>\n",
       "      <td>546567.250000</td>\n",
       "      <td>7.022500</td>\n",
       "    </tr>\n",
       "    <tr>\n",
       "      <th>max</th>\n",
       "      <td>546592.000000</td>\n",
       "      <td>10.710000</td>\n",
       "    </tr>\n",
       "  </tbody>\n",
       "</table>\n",
       "</div>"
      ],
      "text/plain": [
       "             user_id  time_spent_on_the_page\n",
       "count     100.000000              100.000000\n",
       "mean   546517.000000                5.377800\n",
       "std        52.295779                2.378166\n",
       "min    546443.000000                0.190000\n",
       "25%    546467.750000                3.880000\n",
       "50%    546492.500000                5.415000\n",
       "75%    546567.250000                7.022500\n",
       "max    546592.000000               10.710000"
      ]
     },
     "execution_count": 8,
     "metadata": {},
     "output_type": "execute_result"
    }
   ],
   "source": [
    "# Summary statistics\n",
    "\n",
    "data.describe()"
   ]
  },
  {
   "cell_type": "markdown",
   "id": "a4dc09e9",
   "metadata": {},
   "source": [
    "#### Observation: From the above statistical summary, we can infer that there are 100 unique users that visit the landing page. The minimum time spent on a landing page is 0.19 minutes and the max time spent is 10.71 minutes, with an average of about 5.38 minutes spent by a user. "
   ]
  },
  {
   "cell_type": "code",
   "execution_count": 9,
   "id": "1c335356",
   "metadata": {},
   "outputs": [
    {
     "data": {
      "text/plain": [
       "control      50\n",
       "treatment    50\n",
       "Name: group, dtype: int64"
      ]
     },
     "execution_count": 9,
     "metadata": {},
     "output_type": "execute_result"
    }
   ],
   "source": [
    "data.group.value_counts()"
   ]
  },
  {
   "cell_type": "markdown",
   "id": "ef67d435",
   "metadata": {},
   "source": [
    "#### There are 2 unique groups; control group with 50 users and treatment group also with 50 users"
   ]
  },
  {
   "cell_type": "code",
   "execution_count": 10,
   "id": "801d1902",
   "metadata": {},
   "outputs": [
    {
     "data": {
      "text/plain": [
       "new    50\n",
       "old    50\n",
       "Name: landing_page, dtype: int64"
      ]
     },
     "execution_count": 10,
     "metadata": {},
     "output_type": "execute_result"
    }
   ],
   "source": [
    "data.landing_page.value_counts()"
   ]
  },
  {
   "cell_type": "markdown",
   "id": "81d63fac",
   "metadata": {},
   "source": [
    "#### There are 2 landing pages; 50 users visit the old landing page and the other 50 visit the new one"
   ]
  },
  {
   "cell_type": "code",
   "execution_count": 11,
   "id": "5ac49b4e",
   "metadata": {},
   "outputs": [
    {
     "data": {
      "text/plain": [
       "yes    54\n",
       "no     46\n",
       "Name: converted, dtype: int64"
      ]
     },
     "execution_count": 11,
     "metadata": {},
     "output_type": "execute_result"
    }
   ],
   "source": [
    "data.converted.value_counts()"
   ]
  },
  {
   "cell_type": "markdown",
   "id": "a20d5419",
   "metadata": {},
   "source": [
    "#### Of the 100 users, 54 got converted and 46 remain unconverted after visiting the landing page"
   ]
  },
  {
   "cell_type": "code",
   "execution_count": 12,
   "id": "8671d4cf",
   "metadata": {},
   "outputs": [
    {
     "data": {
      "text/plain": [
       "French     34\n",
       "Spanish    34\n",
       "English    32\n",
       "Name: language_preferred, dtype: int64"
      ]
     },
     "execution_count": 12,
     "metadata": {},
     "output_type": "execute_result"
    }
   ],
   "source": [
    "data.language_preferred.value_counts()"
   ]
  },
  {
   "cell_type": "markdown",
   "id": "d122959c",
   "metadata": {},
   "source": [
    "#### There are 3 unique user-preferred languages; French, Spanish and English. User counts for each language shown above"
   ]
  },
  {
   "cell_type": "markdown",
   "id": "58ce2bba",
   "metadata": {},
   "source": [
    "# Univariate Analysis"
   ]
  },
  {
   "cell_type": "code",
   "execution_count": 13,
   "id": "5f6ee44b",
   "metadata": {},
   "outputs": [
    {
     "data": {
      "image/png": "[encoded data removed]",
      "text/plain": [
       "<Figure size 864x504 with 2 Axes>"
      ]
     },
     "metadata": {},
     "output_type": "display_data"
    }
   ],
   "source": [
    "# Time spent on the page\n",
    "\n",
    "# Plot histogram and boxplot on same scale\n",
    "\n",
    "def histogram_boxplot(data, feature, figsize=(12, 7), kde=False, bins=None):\n",
    "    \n",
    "    f2, (ax_box2, ax_hist2) = plt.subplots(nrows=2, sharex=True, gridspec_kw={\"height_ratios\": (0.25, 0.75)},figsize=figsize,)  \n",
    "    sns.boxplot(data=data, x=feature, ax=ax_box2, showmeans=True, color=\"pink\")\n",
    "    sns.histplot(data=data, x=feature, kde=kde, ax=ax_hist2, bins=bins, palette=\"winter\") if bins else sns.histplot(data=data, x=feature, kde=kde, ax=ax_hist2)  \n",
    "    ax_hist2.axvline(data[feature].mean(), color=\"yellow\", linestyle=\"--\")  \n",
    "    ax_hist2.axvline(data[feature].median(), color=\"red\", linestyle=\"-\")  \n",
    "\n",
    "histogram_boxplot(data,\"time_spent_on_the_page\")"
   ]
  },
  {
   "cell_type": "markdown",
   "id": "15b5ab74",
   "metadata": {},
   "source": [
    "#### Observation: We see the time spent of the page variable follows a normal distribution, with population evenly spread on either side of the mean. The mean is about the same as the median as shown above."
   ]
  },
  {
   "cell_type": "code",
   "execution_count": 14,
   "id": "f75b8c8c",
   "metadata": {},
   "outputs": [],
   "source": [
    "def labeled_barplot(data, feature, perc=False, n=None):\n",
    "\n",
    "    total = len(data[feature]) \n",
    "    count = data[feature].nunique()\n",
    "    if n is None:\n",
    "        plt.figure(figsize=(count + 1, 5))\n",
    "    else:\n",
    "        plt.figure(figsize=(n + 1, 5))\n",
    "\n",
    "    \n",
    "    ax = sns.countplot(data=data, x=feature, palette=\"Paired\", order=data[feature].value_counts().index[:n].sort_values())\n",
    "\n",
    "    for p in ax.patches:\n",
    "        if perc == True:\n",
    "            label = \"{:.1f}%\".format(100 * p.get_height() / total)  \n",
    "        else:\n",
    "            label = p.get_height()  \n",
    "\n",
    "        x = p.get_x() + p.get_width() / 2  \n",
    "        y = p.get_height()     \n",
    "\n",
    "        ax.annotate(label, (x, y), ha=\"center\", va=\"center\", size=12, xytext=(0, 5), textcoords=\"offset points\")  \n",
    "plt.show()"
   ]
  },
  {
   "cell_type": "code",
   "execution_count": 15,
   "id": "a17c53a0",
   "metadata": {},
   "outputs": [
    {
     "data": {
      "image/png": "[encoded data removed]",
      "text/plain": [
       "<Figure size 216x360 with 1 Axes>"
      ]
     },
     "metadata": {},
     "output_type": "display_data"
    }
   ],
   "source": [
    "# Group\n",
    "\n",
    "labeled_barplot(data,'group',perc = True)"
   ]
  },
  {
   "cell_type": "markdown",
   "id": "34012dcb",
   "metadata": {},
   "source": [
    "#### Observation: The count of users in the control and treatment groups are evenly split. "
   ]
  },
  {
   "cell_type": "code",
   "execution_count": 16,
   "id": "3bccebb4",
   "metadata": {},
   "outputs": [
    {
     "data": {
      "image/png": "[encoded data removed]",
      "text/plain": [
       "<Figure size 216x360 with 1 Axes>"
      ]
     },
     "metadata": {},
     "output_type": "display_data"
    }
   ],
   "source": [
    "#Landing page\n",
    "\n",
    "labeled_barplot(data,'landing_page',perc = True)"
   ]
  },
  {
   "cell_type": "markdown",
   "id": "68dc4437",
   "metadata": {},
   "source": [
    "#### Observation: This observation is same as the previous one, with a 50/50 split of users on both landing pages."
   ]
  },
  {
   "cell_type": "code",
   "execution_count": 17,
   "id": "6d86bb53",
   "metadata": {},
   "outputs": [
    {
     "data": {
      "image/png": "[encoded data removed]",
      "text/plain": [
       "<Figure size 216x360 with 1 Axes>"
      ]
     },
     "metadata": {},
     "output_type": "display_data"
    }
   ],
   "source": [
    "# Converted\n",
    "\n",
    "labeled_barplot(data, 'converted' , perc=True)"
   ]
  },
  {
   "cell_type": "markdown",
   "id": "9679a720",
   "metadata": {},
   "source": [
    "#### Observation: Total number of converted users is higher than total unconverted users. We see a 54% to 46% split"
   ]
  },
  {
   "cell_type": "code",
   "execution_count": 18,
   "id": "eafa4050",
   "metadata": {},
   "outputs": [
    {
     "data": {
      "image/png": "[encoded data removed]",
      "text/plain": [
       "<Figure size 288x360 with 1 Axes>"
      ]
     },
     "metadata": {},
     "output_type": "display_data"
    }
   ],
   "source": [
    "#Language preferred\n",
    "\n",
    "labeled_barplot(data, 'language_preferred' , perc=True)"
   ]
  },
  {
   "cell_type": "markdown",
   "id": "3d82ad45",
   "metadata": {},
   "source": [
    "#### Observation: English is the least preferred language among the 3 different languages users could choose from. French and Spanish are the most preferred with an equal number of users."
   ]
  },
  {
   "cell_type": "code",
   "execution_count": 19,
   "id": "7beefccb",
   "metadata": {},
   "outputs": [
    {
     "data": {
      "text/html": [
       "<div>\n",
       "<style scoped>\n",
       "    .dataframe tbody tr th:only-of-type {\n",
       "        vertical-align: middle;\n",
       "    }\n",
       "\n",
       "    .dataframe tbody tr th {\n",
       "        vertical-align: top;\n",
       "    }\n",
       "\n",
       "    .dataframe thead th {\n",
       "        text-align: right;\n",
       "    }\n",
       "</style>\n",
       "<table border=\"1\" class=\"dataframe\">\n",
       "  <thead>\n",
       "    <tr style=\"text-align: right;\">\n",
       "      <th></th>\n",
       "      <th>user_id</th>\n",
       "      <th>group</th>\n",
       "      <th>landing_page</th>\n",
       "      <th>time_spent_on_the_page</th>\n",
       "      <th>converted</th>\n",
       "      <th>language_preferred</th>\n",
       "    </tr>\n",
       "  </thead>\n",
       "  <tbody>\n",
       "    <tr>\n",
       "      <th>0</th>\n",
       "      <td>546592</td>\n",
       "      <td>control</td>\n",
       "      <td>old</td>\n",
       "      <td>3.48</td>\n",
       "      <td>no</td>\n",
       "      <td>Spanish</td>\n",
       "    </tr>\n",
       "    <tr>\n",
       "      <th>1</th>\n",
       "      <td>546468</td>\n",
       "      <td>treatment</td>\n",
       "      <td>new</td>\n",
       "      <td>7.13</td>\n",
       "      <td>yes</td>\n",
       "      <td>English</td>\n",
       "    </tr>\n",
       "    <tr>\n",
       "      <th>2</th>\n",
       "      <td>546462</td>\n",
       "      <td>treatment</td>\n",
       "      <td>new</td>\n",
       "      <td>4.40</td>\n",
       "      <td>no</td>\n",
       "      <td>Spanish</td>\n",
       "    </tr>\n",
       "    <tr>\n",
       "      <th>3</th>\n",
       "      <td>546567</td>\n",
       "      <td>control</td>\n",
       "      <td>old</td>\n",
       "      <td>3.02</td>\n",
       "      <td>no</td>\n",
       "      <td>French</td>\n",
       "    </tr>\n",
       "    <tr>\n",
       "      <th>4</th>\n",
       "      <td>546459</td>\n",
       "      <td>treatment</td>\n",
       "      <td>new</td>\n",
       "      <td>4.75</td>\n",
       "      <td>yes</td>\n",
       "      <td>Spanish</td>\n",
       "    </tr>\n",
       "  </tbody>\n",
       "</table>\n",
       "</div>"
      ],
      "text/plain": [
       "   user_id      group landing_page  time_spent_on_the_page converted  \\\n",
       "0   546592    control          old                    3.48        no   \n",
       "1   546468  treatment          new                    7.13       yes   \n",
       "2   546462  treatment          new                    4.40        no   \n",
       "3   546567    control          old                    3.02        no   \n",
       "4   546459  treatment          new                    4.75       yes   \n",
       "\n",
       "  language_preferred  \n",
       "0            Spanish  \n",
       "1            English  \n",
       "2            Spanish  \n",
       "3             French  \n",
       "4            Spanish  "
      ]
     },
     "execution_count": 19,
     "metadata": {},
     "output_type": "execute_result"
    }
   ],
   "source": [
    "data.head()"
   ]
  },
  {
   "cell_type": "markdown",
   "id": "b0e07f15",
   "metadata": {},
   "source": [
    "# Bivariate Analysis"
   ]
  },
  {
   "cell_type": "code",
   "execution_count": 20,
   "id": "01ead19c",
   "metadata": {},
   "outputs": [
    {
     "data": {
      "text/plain": [
       "<AxesSubplot:xlabel='landing_page', ylabel='time_spent_on_the_page'>"
      ]
     },
     "execution_count": 20,
     "metadata": {},
     "output_type": "execute_result"
    },
    {
     "data": {
      "image/png": "[encoded data removed]",
      "text/plain": [
       "<Figure size 720x432 with 1 Axes>"
      ]
     },
     "metadata": {},
     "output_type": "display_data"
    }
   ],
   "source": [
    "# Landing page vs Time spent on the page\n",
    "\n",
    "plt.figure(figsize=(10, 6))\n",
    "sns.boxplot(data = data, y = 'time_spent_on_the_page', x = 'landing_page', palette='colorblind', showmeans='True')"
   ]
  },
  {
   "cell_type": "markdown",
   "id": "c8b18944",
   "metadata": {},
   "source": [
    "#### Observation: The new landing page sees users spending more time on it compared to the old landing page as shown in the above boxplot."
   ]
  },
  {
   "cell_type": "code",
   "execution_count": 21,
   "id": "882c5629",
   "metadata": {},
   "outputs": [
    {
     "data": {
      "text/plain": [
       "<AxesSubplot:xlabel='converted', ylabel='time_spent_on_the_page'>"
      ]
     },
     "execution_count": 21,
     "metadata": {},
     "output_type": "execute_result"
    },
    {
     "data": {
      "image/png": "[encoded data removed]",
      "text/plain": [
       "<Figure size 720x432 with 1 Axes>"
      ]
     },
     "metadata": {},
     "output_type": "display_data"
    }
   ],
   "source": [
    "# Conversion status vs Time spent on the page\n",
    "\n",
    "plt.figure(figsize=(10, 6))\n",
    "sns.boxplot(data = data, y = 'time_spent_on_the_page', x = 'converted', palette='pastel', showmeans='True')"
   ]
  },
  {
   "cell_type": "markdown",
   "id": "6893d168",
   "metadata": {},
   "source": [
    "#### Observation: Users who got converted spent more time on a landing page as compared to those who got unconverted."
   ]
  },
  {
   "cell_type": "code",
   "execution_count": 22,
   "id": "372a6970",
   "metadata": {},
   "outputs": [
    {
     "data": {
      "text/plain": [
       "<AxesSubplot:xlabel='language_preferred', ylabel='time_spent_on_the_page'>"
      ]
     },
     "execution_count": 22,
     "metadata": {},
     "output_type": "execute_result"
    },
    {
     "data": {
      "image/png": "[encoded data removed]",
      "text/plain": [
       "<Figure size 1008x576 with 1 Axes>"
      ]
     },
     "metadata": {},
     "output_type": "display_data"
    }
   ],
   "source": [
    "# Language preferred vs Time spent on the page\n",
    "\n",
    "plt.figure(figsize=(14,8))\n",
    "sns.boxplot(data=data, x = 'language_preferred', y = 'time_spent_on_the_page', showmeans='True', palette='pastel')"
   ]
  },
  {
   "cell_type": "markdown",
   "id": "fa0a444c",
   "metadata": {},
   "source": [
    "#### Observation: On average users spent about the same amount of time on a landing page irrespective of their preferred language. Spanish users however, show a slightly different distributioon and is the only distribution with an outlier, even though averagely about the same as the other languages"
   ]
  },
  {
   "cell_type": "markdown",
   "id": "64686c7a",
   "metadata": {},
   "source": [
    "# 2. Do the users spend more time on the new landing page than the existing landing page?"
   ]
  },
  {
   "cell_type": "code",
   "execution_count": 23,
   "id": "1d538e58",
   "metadata": {},
   "outputs": [
    {
     "data": {
      "text/plain": [
       "<AxesSubplot:xlabel='landing_page', ylabel='time_spent_on_the_page'>"
      ]
     },
     "execution_count": 23,
     "metadata": {},
     "output_type": "execute_result"
    },
    {
     "data": {
      "image/png": "[encoded data removed]",
      "text/plain": [
       "<Figure size 1008x576 with 1 Axes>"
      ]
     },
     "metadata": {},
     "output_type": "display_data"
    }
   ],
   "source": [
    "# Visual Analysis\n",
    "\n",
    "\n",
    "plt.figure(figsize=(14,8))\n",
    "sns.boxplot(data=data, x = 'landing_page', y = 'time_spent_on_the_page')"
   ]
  },
  {
   "cell_type": "markdown",
   "id": "4ec20ce2",
   "metadata": {},
   "source": [
    "* Observation: From above boxplot we can see that users spend more time on the new landing page as compared to the old one. The least time spent on the new landing page including its outlier is more than the least time spent on the old landing page. We can also see that the highest recorded times were for that of users on the new landing page. "
   ]
  },
  {
   "cell_type": "markdown",
   "id": "00a073dd",
   "metadata": {},
   "source": [
    "> Hypothesis Testing"
   ]
  },
  {
   "cell_type": "markdown",
   "id": "755738c4",
   "metadata": {},
   "source": [
    " Define the null and alternate hypotheses\n",
    "\n",
    "\n",
    "  * Null Hypothesis;        Ho: Users spend the same time on the new landing page as the existing landing page\n",
    "  * Alternative Hypothesis; Ha: Users spend more time on the new landing page than the existing landing page"
   ]
  },
  {
   "cell_type": "markdown",
   "id": "4d959d41",
   "metadata": {},
   "source": [
    "Use Independent 2-Sample T-test as standard deviations of 2 populations are not known\n",
    "\n",
    "Assume α = 0.05"
   ]
  },
  {
   "cell_type": "code",
   "execution_count": 24,
   "id": "4ac2d281",
   "metadata": {},
   "outputs": [],
   "source": [
    "new_times = data[data['landing_page']=='new']['time_spent_on_the_page']\n",
    "old_times = data[data['landing_page']=='old']['time_spent_on_the_page']"
   ]
  },
  {
   "cell_type": "code",
   "execution_count": 25,
   "id": "38e20beb",
   "metadata": {},
   "outputs": [],
   "source": [
    "from scipy.stats import ttest_ind\n",
    "\n",
    "t,p = stats.ttest_ind(new_times, old_times, alternative='greater')"
   ]
  },
  {
   "cell_type": "code",
   "execution_count": 26,
   "id": "b375a76e",
   "metadata": {},
   "outputs": [
    {
     "name": "stdout",
     "output_type": "stream",
     "text": [
      "The p-value is 0.0001316123528095005\n"
     ]
    }
   ],
   "source": [
    "print('The p-value is',p)"
   ]
  },
  {
   "cell_type": "markdown",
   "id": "ce080503",
   "metadata": {},
   "source": [
    "* Inference: Since the p-value is less than the 5% significance level, we reject the null hypothesis. Hence, we have enough statistical evidence to prove that users spend more time on the new landing page than the existing (old) landing page."
   ]
  },
  {
   "cell_type": "markdown",
   "id": "6b16cb09",
   "metadata": {},
   "source": [
    "# 3. Is the conversion rate (the proportion of users who visit the landing page and get converted) for the new page greater than the conversion rate for the old page? "
   ]
  },
  {
   "cell_type": "code",
   "execution_count": 27,
   "id": "ec7add26",
   "metadata": {},
   "outputs": [
    {
     "data": {
      "text/html": [
       "<div>\n",
       "<style scoped>\n",
       "    .dataframe tbody tr th:only-of-type {\n",
       "        vertical-align: middle;\n",
       "    }\n",
       "\n",
       "    .dataframe tbody tr th {\n",
       "        vertical-align: top;\n",
       "    }\n",
       "\n",
       "    .dataframe thead th {\n",
       "        text-align: right;\n",
       "    }\n",
       "</style>\n",
       "<table border=\"1\" class=\"dataframe\">\n",
       "  <thead>\n",
       "    <tr style=\"text-align: right;\">\n",
       "      <th></th>\n",
       "      <th>user_id</th>\n",
       "      <th>group</th>\n",
       "      <th>landing_page</th>\n",
       "      <th>time_spent_on_the_page</th>\n",
       "      <th>converted</th>\n",
       "      <th>language_preferred</th>\n",
       "    </tr>\n",
       "  </thead>\n",
       "  <tbody>\n",
       "    <tr>\n",
       "      <th>0</th>\n",
       "      <td>546592</td>\n",
       "      <td>control</td>\n",
       "      <td>old</td>\n",
       "      <td>3.48</td>\n",
       "      <td>no</td>\n",
       "      <td>Spanish</td>\n",
       "    </tr>\n",
       "    <tr>\n",
       "      <th>1</th>\n",
       "      <td>546468</td>\n",
       "      <td>treatment</td>\n",
       "      <td>new</td>\n",
       "      <td>7.13</td>\n",
       "      <td>yes</td>\n",
       "      <td>English</td>\n",
       "    </tr>\n",
       "    <tr>\n",
       "      <th>2</th>\n",
       "      <td>546462</td>\n",
       "      <td>treatment</td>\n",
       "      <td>new</td>\n",
       "      <td>4.40</td>\n",
       "      <td>no</td>\n",
       "      <td>Spanish</td>\n",
       "    </tr>\n",
       "    <tr>\n",
       "      <th>3</th>\n",
       "      <td>546567</td>\n",
       "      <td>control</td>\n",
       "      <td>old</td>\n",
       "      <td>3.02</td>\n",
       "      <td>no</td>\n",
       "      <td>French</td>\n",
       "    </tr>\n",
       "    <tr>\n",
       "      <th>4</th>\n",
       "      <td>546459</td>\n",
       "      <td>treatment</td>\n",
       "      <td>new</td>\n",
       "      <td>4.75</td>\n",
       "      <td>yes</td>\n",
       "      <td>Spanish</td>\n",
       "    </tr>\n",
       "  </tbody>\n",
       "</table>\n",
       "</div>"
      ],
      "text/plain": [
       "   user_id      group landing_page  time_spent_on_the_page converted  \\\n",
       "0   546592    control          old                    3.48        no   \n",
       "1   546468  treatment          new                    7.13       yes   \n",
       "2   546462  treatment          new                    4.40        no   \n",
       "3   546567    control          old                    3.02        no   \n",
       "4   546459  treatment          new                    4.75       yes   \n",
       "\n",
       "  language_preferred  \n",
       "0            Spanish  \n",
       "1            English  \n",
       "2            Spanish  \n",
       "3             French  \n",
       "4            Spanish  "
      ]
     },
     "execution_count": 27,
     "metadata": {},
     "output_type": "execute_result"
    }
   ],
   "source": [
    "# Visual Analysis\n",
    "\n",
    "data.head()"
   ]
  },
  {
   "cell_type": "code",
   "execution_count": 28,
   "id": "6b0cf8e4",
   "metadata": {},
   "outputs": [
    {
     "data": {
      "text/plain": [
       "<AxesSubplot:xlabel='landing_page', ylabel='count'>"
      ]
     },
     "execution_count": 28,
     "metadata": {},
     "output_type": "execute_result"
    },
    {
     "data": {
      "image/png": "[encoded data removed]",
      "text/plain": [
       "<Figure size 864x576 with 1 Axes>"
      ]
     },
     "metadata": {},
     "output_type": "display_data"
    }
   ],
   "source": [
    "# Visual Analysis\n",
    "\n",
    "plt.figure(figsize=(12,8))\n",
    "sns.countplot(data = data, x = 'landing_page', hue = 'converted', palette='winter')"
   ]
  },
  {
   "cell_type": "markdown",
   "id": "db833bde",
   "metadata": {},
   "source": [
    "* Observation: We can tell right away from the countplot that more users on the new page are converted than those not converted while less users are converted than those not converted on the old page. i.e Higher conversion rate for new page than old page."
   ]
  },
  {
   "cell_type": "markdown",
   "id": "7e38ba25",
   "metadata": {},
   "source": [
    "### Hypothesis Testing\n",
    "\n",
    "   * Proportions Z test is chosen for this problem\n",
    "        \n",
    "        Null Hypothesis; Ho: The conversion rate for the new page = The conversion rate for the old page\n",
    "                             \n",
    "        Alternative Hypothesis; Ha: The conversion rate for the new page > The conversion rate for the old page\n",
    "                                    \n",
    "                                    \n",
    "     Assume α = 0.05                              "
   ]
  },
  {
   "cell_type": "code",
   "execution_count": 29,
   "id": "21681626",
   "metadata": {},
   "outputs": [
    {
     "name": "stdout",
     "output_type": "stream",
     "text": [
      "The numbers of users visitng the new and old pages are 50 and 50 respectively\n",
      "conversion rate of new landing page = 0.66\n",
      "conversion rate of old landing page = 0.42\n"
     ]
    }
   ],
   "source": [
    "# Compute conversion rates for new and old pages respectively\n",
    "\n",
    "new_converted = data[data['landing_page'] == 'new']['converted'].value_counts()['yes']\n",
    "old_converted = data[data['landing_page'] == 'old']['converted'].value_counts()['yes']\n",
    "\n",
    "new_users = data.landing_page.value_counts()['new'] \n",
    "old_users = data.landing_page.value_counts()['old'] \n",
    "print('The numbers of users visitng the new and old pages are {0} and {1} respectively'.format(new_users, old_users))\n",
    "\n",
    "new_prop = new_converted/new_users # New page conversion rate\n",
    "old_prop = old_converted/old_users # Old page conversion rate\n",
    "\n",
    "print('conversion rate of new landing page =', new_prop)\n",
    "print('conversion rate of old landing page =', old_prop)"
   ]
  },
  {
   "cell_type": "markdown",
   "id": "b6f85597",
   "metadata": {},
   "source": [
    "* The proportions in the samples are different. Conduct test to check if difference is significant "
   ]
  },
  {
   "cell_type": "code",
   "execution_count": 30,
   "id": "62089e7c",
   "metadata": {},
   "outputs": [
    {
     "name": "stdout",
     "output_type": "stream",
     "text": [
      "The p-value is 0.008026308204056278\n"
     ]
    }
   ],
   "source": [
    "from statsmodels.stats.proportion import proportions_ztest\n",
    "\n",
    "stat, p = proportions_ztest([new_converted, old_converted], [new_users, old_users], alternative='larger')\n",
    "\n",
    "print('The p-value is', p)"
   ]
  },
  {
   "cell_type": "markdown",
   "id": "afb5e85f",
   "metadata": {},
   "source": [
    "#### Inference: Since the p-value is less than the 5% significance level, we reject the null hypothesis. Therefore, we have enough statistical evidence to say that conversion rate for the new page is greater than the conversion rate for the old page."
   ]
  },
  {
   "cell_type": "markdown",
   "id": "ac2c3b89",
   "metadata": {},
   "source": [
    "# 4. Are the conversion and preferred language independent or related?"
   ]
  },
  {
   "cell_type": "code",
   "execution_count": 31,
   "id": "5e5957c4",
   "metadata": {},
   "outputs": [
    {
     "data": {
      "text/html": [
       "<div>\n",
       "<style scoped>\n",
       "    .dataframe tbody tr th:only-of-type {\n",
       "        vertical-align: middle;\n",
       "    }\n",
       "\n",
       "    .dataframe tbody tr th {\n",
       "        vertical-align: top;\n",
       "    }\n",
       "\n",
       "    .dataframe thead th {\n",
       "        text-align: right;\n",
       "    }\n",
       "</style>\n",
       "<table border=\"1\" class=\"dataframe\">\n",
       "  <thead>\n",
       "    <tr style=\"text-align: right;\">\n",
       "      <th></th>\n",
       "      <th>user_id</th>\n",
       "      <th>group</th>\n",
       "      <th>landing_page</th>\n",
       "      <th>time_spent_on_the_page</th>\n",
       "      <th>converted</th>\n",
       "      <th>language_preferred</th>\n",
       "    </tr>\n",
       "  </thead>\n",
       "  <tbody>\n",
       "    <tr>\n",
       "      <th>0</th>\n",
       "      <td>546592</td>\n",
       "      <td>control</td>\n",
       "      <td>old</td>\n",
       "      <td>3.48</td>\n",
       "      <td>no</td>\n",
       "      <td>Spanish</td>\n",
       "    </tr>\n",
       "    <tr>\n",
       "      <th>1</th>\n",
       "      <td>546468</td>\n",
       "      <td>treatment</td>\n",
       "      <td>new</td>\n",
       "      <td>7.13</td>\n",
       "      <td>yes</td>\n",
       "      <td>English</td>\n",
       "    </tr>\n",
       "    <tr>\n",
       "      <th>2</th>\n",
       "      <td>546462</td>\n",
       "      <td>treatment</td>\n",
       "      <td>new</td>\n",
       "      <td>4.40</td>\n",
       "      <td>no</td>\n",
       "      <td>Spanish</td>\n",
       "    </tr>\n",
       "    <tr>\n",
       "      <th>3</th>\n",
       "      <td>546567</td>\n",
       "      <td>control</td>\n",
       "      <td>old</td>\n",
       "      <td>3.02</td>\n",
       "      <td>no</td>\n",
       "      <td>French</td>\n",
       "    </tr>\n",
       "    <tr>\n",
       "      <th>4</th>\n",
       "      <td>546459</td>\n",
       "      <td>treatment</td>\n",
       "      <td>new</td>\n",
       "      <td>4.75</td>\n",
       "      <td>yes</td>\n",
       "      <td>Spanish</td>\n",
       "    </tr>\n",
       "  </tbody>\n",
       "</table>\n",
       "</div>"
      ],
      "text/plain": [
       "   user_id      group landing_page  time_spent_on_the_page converted  \\\n",
       "0   546592    control          old                    3.48        no   \n",
       "1   546468  treatment          new                    7.13       yes   \n",
       "2   546462  treatment          new                    4.40        no   \n",
       "3   546567    control          old                    3.02        no   \n",
       "4   546459  treatment          new                    4.75       yes   \n",
       "\n",
       "  language_preferred  \n",
       "0            Spanish  \n",
       "1            English  \n",
       "2            Spanish  \n",
       "3             French  \n",
       "4            Spanish  "
      ]
     },
     "execution_count": 31,
     "metadata": {},
     "output_type": "execute_result"
    }
   ],
   "source": [
    "data.head()"
   ]
  },
  {
   "cell_type": "code",
   "execution_count": 32,
   "id": "90328230",
   "metadata": {},
   "outputs": [
    {
     "data": {
      "image/png": "[encoded data removed]",
      "text/plain": [
       "<Figure size 432x288 with 1 Axes>"
      ]
     },
     "metadata": {},
     "output_type": "display_data"
    }
   ],
   "source": [
    "# Visual Analysis\n",
    "\n",
    "pd.crosstab(data['converted'],data['language_preferred'],normalize='index').plot(kind='bar',stacked =True)\n",
    "plt.legend()\n",
    "plt.show()"
   ]
  },
  {
   "cell_type": "markdown",
   "id": "aa848cfd",
   "metadata": {},
   "source": [
    "* Observation: From the stacked barplot above, we can see that more English users got converted than those who remained unconverted, followed by Spanish users who had marginally less conversions and then French users who had less conversions. However, we cannot tell for sure if these languages have a bearing on the conversion status of users. The following hypothesis test will help us to check whether we have enough statistical evidence to say that the converted status is not independent of the preferred language."
   ]
  },
  {
   "cell_type": "markdown",
   "id": "8816b597",
   "metadata": {},
   "source": [
    "> Hypothesis Testing\n",
    "\n",
    "   * Chi-square test of independence is chosen as we have two categorical variables\n",
    "        \n",
    "        Null Hypothesis; Ho: The converted status is independent of the preferred language\n",
    "                             \n",
    "        Alternative Hypothesis; Ha: The converted status is NOT independent of the preferred language\n",
    "                                    \n",
    "                                    \n",
    "     Assume α = 0.05"
   ]
  },
  {
   "cell_type": "code",
   "execution_count": 33,
   "id": "29ab6f9c",
   "metadata": {},
   "outputs": [
    {
     "data": {
      "text/html": [
       "<div>\n",
       "<style scoped>\n",
       "    .dataframe tbody tr th:only-of-type {\n",
       "        vertical-align: middle;\n",
       "    }\n",
       "\n",
       "    .dataframe tbody tr th {\n",
       "        vertical-align: top;\n",
       "    }\n",
       "\n",
       "    .dataframe thead th {\n",
       "        text-align: right;\n",
       "    }\n",
       "</style>\n",
       "<table border=\"1\" class=\"dataframe\">\n",
       "  <thead>\n",
       "    <tr style=\"text-align: right;\">\n",
       "      <th>language_preferred</th>\n",
       "      <th>English</th>\n",
       "      <th>French</th>\n",
       "      <th>Spanish</th>\n",
       "    </tr>\n",
       "    <tr>\n",
       "      <th>converted</th>\n",
       "      <th></th>\n",
       "      <th></th>\n",
       "      <th></th>\n",
       "    </tr>\n",
       "  </thead>\n",
       "  <tbody>\n",
       "    <tr>\n",
       "      <th>no</th>\n",
       "      <td>11</td>\n",
       "      <td>19</td>\n",
       "      <td>16</td>\n",
       "    </tr>\n",
       "    <tr>\n",
       "      <th>yes</th>\n",
       "      <td>21</td>\n",
       "      <td>15</td>\n",
       "      <td>18</td>\n",
       "    </tr>\n",
       "  </tbody>\n",
       "</table>\n",
       "</div>"
      ],
      "text/plain": [
       "language_preferred  English  French  Spanish\n",
       "converted                                   \n",
       "no                       11      19       16\n",
       "yes                      21      15       18"
      ]
     },
     "execution_count": 33,
     "metadata": {},
     "output_type": "execute_result"
    }
   ],
   "source": [
    "# Contingency table\n",
    "\n",
    "contingency_table = pd.crosstab(data['converted'],data['language_preferred'])\n",
    "contingency_table"
   ]
  },
  {
   "cell_type": "code",
   "execution_count": 34,
   "id": "126e61cc",
   "metadata": {},
   "outputs": [
    {
     "name": "stdout",
     "output_type": "stream",
     "text": [
      "The p-value is 0.21298887487543447\n"
     ]
    }
   ],
   "source": [
    "# Find p-value\n",
    "\n",
    "from scipy.stats import chi2_contingency\n",
    "chi2, pval, dof, exp_freq = chi2_contingency(contingency_table)\n",
    "print('The p-value is', pval)"
   ]
  },
  {
   "cell_type": "markdown",
   "id": "e0a8f0e0",
   "metadata": {},
   "source": [
    "#### Inference: Since the p-value is greater than the 5% significance level, we fail to reject the null hypothesis. Therefore, we do not have enough statistical evidence to say that the converted status is NOT independent of the preferred language"
   ]
  },
  {
   "cell_type": "markdown",
   "id": "016c4869",
   "metadata": {},
   "source": [
    "# 5. Is the time spent on the new page same for the different language users?"
   ]
  },
  {
   "cell_type": "code",
   "execution_count": 35,
   "id": "fc0706b3",
   "metadata": {},
   "outputs": [
    {
     "data": {
      "text/html": [
       "<div>\n",
       "<style scoped>\n",
       "    .dataframe tbody tr th:only-of-type {\n",
       "        vertical-align: middle;\n",
       "    }\n",
       "\n",
       "    .dataframe tbody tr th {\n",
       "        vertical-align: top;\n",
       "    }\n",
       "\n",
       "    .dataframe thead th {\n",
       "        text-align: right;\n",
       "    }\n",
       "</style>\n",
       "<table border=\"1\" class=\"dataframe\">\n",
       "  <thead>\n",
       "    <tr style=\"text-align: right;\">\n",
       "      <th></th>\n",
       "      <th>user_id</th>\n",
       "      <th>group</th>\n",
       "      <th>landing_page</th>\n",
       "      <th>time_spent_on_the_page</th>\n",
       "      <th>converted</th>\n",
       "      <th>language_preferred</th>\n",
       "    </tr>\n",
       "  </thead>\n",
       "  <tbody>\n",
       "    <tr>\n",
       "      <th>1</th>\n",
       "      <td>546468</td>\n",
       "      <td>treatment</td>\n",
       "      <td>new</td>\n",
       "      <td>7.13</td>\n",
       "      <td>yes</td>\n",
       "      <td>English</td>\n",
       "    </tr>\n",
       "    <tr>\n",
       "      <th>2</th>\n",
       "      <td>546462</td>\n",
       "      <td>treatment</td>\n",
       "      <td>new</td>\n",
       "      <td>4.40</td>\n",
       "      <td>no</td>\n",
       "      <td>Spanish</td>\n",
       "    </tr>\n",
       "    <tr>\n",
       "      <th>4</th>\n",
       "      <td>546459</td>\n",
       "      <td>treatment</td>\n",
       "      <td>new</td>\n",
       "      <td>4.75</td>\n",
       "      <td>yes</td>\n",
       "      <td>Spanish</td>\n",
       "    </tr>\n",
       "    <tr>\n",
       "      <th>6</th>\n",
       "      <td>546448</td>\n",
       "      <td>treatment</td>\n",
       "      <td>new</td>\n",
       "      <td>5.25</td>\n",
       "      <td>yes</td>\n",
       "      <td>French</td>\n",
       "    </tr>\n",
       "    <tr>\n",
       "      <th>8</th>\n",
       "      <td>546461</td>\n",
       "      <td>treatment</td>\n",
       "      <td>new</td>\n",
       "      <td>10.71</td>\n",
       "      <td>yes</td>\n",
       "      <td>French</td>\n",
       "    </tr>\n",
       "  </tbody>\n",
       "</table>\n",
       "</div>"
      ],
      "text/plain": [
       "   user_id      group landing_page  time_spent_on_the_page converted  \\\n",
       "1   546468  treatment          new                    7.13       yes   \n",
       "2   546462  treatment          new                    4.40        no   \n",
       "4   546459  treatment          new                    4.75       yes   \n",
       "6   546448  treatment          new                    5.25       yes   \n",
       "8   546461  treatment          new                   10.71       yes   \n",
       "\n",
       "  language_preferred  \n",
       "1            English  \n",
       "2            Spanish  \n",
       "4            Spanish  \n",
       "6             French  \n",
       "8             French  "
      ]
     },
     "execution_count": 35,
     "metadata": {},
     "output_type": "execute_result"
    }
   ],
   "source": [
    "# Create new dataframe for new page users\n",
    "data_new = data[data['landing_page']=='new']\n",
    "data_new.head()"
   ]
  },
  {
   "cell_type": "code",
   "execution_count": 36,
   "id": "d872c97f",
   "metadata": {},
   "outputs": [
    {
     "data": {
      "text/plain": [
       "new    50\n",
       "old     0\n",
       "Name: landing_page, dtype: int64"
      ]
     },
     "execution_count": 36,
     "metadata": {},
     "output_type": "execute_result"
    }
   ],
   "source": [
    "# Confirm landing page has only 'new' entry\n",
    "data_new.landing_page.value_counts()"
   ]
  },
  {
   "cell_type": "code",
   "execution_count": 37,
   "id": "9e7eb8ef",
   "metadata": {},
   "outputs": [
    {
     "data": {
      "text/plain": [
       "<AxesSubplot:xlabel='language_preferred', ylabel='time_spent_on_the_page'>"
      ]
     },
     "execution_count": 37,
     "metadata": {},
     "output_type": "execute_result"
    },
    {
     "data": {
      "image/png": "[encoded data removed]",
      "text/plain": [
       "<Figure size 864x576 with 1 Axes>"
      ]
     },
     "metadata": {},
     "output_type": "display_data"
    }
   ],
   "source": [
    "# Visual Analysis\n",
    "plt.figure(figsize=(12,8))\n",
    "sns.boxplot(data=data_new, x='language_preferred', y='time_spent_on_the_page', showmeans='True', palette='magma')"
   ]
  },
  {
   "cell_type": "markdown",
   "id": "0e7dbb5b",
   "metadata": {},
   "source": [
    "* Observation: From the time distribtuion in the above boxplot, we see that the three popolation means are not far from each other, signifying that the average time spent by a user with regards to preferred language might be almost the same. Hypothesis testing will be performed to check if this is indeed the case"
   ]
  },
  {
   "cell_type": "markdown",
   "id": "94ab88ae",
   "metadata": {},
   "source": [
    "> Hypothesis Testing\n",
    "\n",
    "Null Hypothesis\n",
    "\n",
    "Ho: μ1 = μ2 = μ3 ;The mean time spent by a user on the new landing page is equal for all three preferred languages\n",
    "\n",
    "Alternative Hypothesis\n",
    "\n",
    "Ha: At least one of the mean time spent by a user with respect to the three preferred languages is different from the others\n",
    "\n",
    "\n",
    "\n",
    "\n",
    "\n",
    "   * We shall be comparing 3 population means so we could use the One-way ANOVA test, provided normality and equality of variance assumptions are verified.\n",
    "        \n",
    "                             \n",
    "     Assume α = 0.05"
   ]
  },
  {
   "cell_type": "markdown",
   "id": "69549956",
   "metadata": {},
   "source": [
    "* Shapiro-Wilk’s Test\n",
    "\n",
    "Null Hypothesis; Ho : The times spent on the new page follow a normal distribution\n",
    "\n",
    "Alternative Hypothesis; Ha : The times spent on the new page do not follow a normal distribution"
   ]
  },
  {
   "cell_type": "code",
   "execution_count": 38,
   "id": "4d359bce",
   "metadata": {},
   "outputs": [
    {
     "name": "stdout",
     "output_type": "stream",
     "text": [
      "The p-value is 0.8040016293525696\n"
     ]
    }
   ],
   "source": [
    "from scipy import stats\n",
    "w, p = stats.shapiro(data_new['time_spent_on_the_page'])\n",
    "print('The p-value is', p)"
   ]
  },
  {
   "cell_type": "markdown",
   "id": "50eee941",
   "metadata": {},
   "source": [
    "* Observation: Since the p-value is quite larger than the 5% significance level, we fail to reject the null hypothesis that the times spent on the page follow a normal distribution"
   ]
  },
  {
   "cell_type": "markdown",
   "id": "d32a2daf",
   "metadata": {},
   "source": [
    "* Levene's Test"
   ]
  },
  {
   "cell_type": "markdown",
   "id": "59151efd",
   "metadata": {},
   "source": [
    "Null Hypothesis; Ho : All the population variances are equal\n",
    "\n",
    "Alternative Hypothesis; Ha : At least one variance is different from the rest"
   ]
  },
  {
   "cell_type": "code",
   "execution_count": 39,
   "id": "0f2fd5d8",
   "metadata": {},
   "outputs": [
    {
     "name": "stdout",
     "output_type": "stream",
     "text": [
      "The p-value is 0.46711357711340173\n"
     ]
    }
   ],
   "source": [
    "from scipy.stats import levene\n",
    "stat, p = stats.levene(data_new[data_new['language_preferred']=='English']['time_spent_on_the_page'],\n",
    "                       data_new[data_new['language_preferred']=='French']['time_spent_on_the_page'],\n",
    "                       data_new[data_new['language_preferred']=='Spanish']['time_spent_on_the_page'])\n",
    "print('The p-value is', p)"
   ]
  },
  {
   "cell_type": "markdown",
   "id": "b7ccb1bf",
   "metadata": {},
   "source": [
    "* Since the p-value is greater than the 5% significance level, we fail to reject the null hypothesis that all population variances are equal"
   ]
  },
  {
   "cell_type": "markdown",
   "id": "0f65756c",
   "metadata": {},
   "source": [
    "* Since the assumptions of normality and equality of variance have been verified, we proceed to perform the One-way ANOVA test\n",
    "\n",
    "Assume α = 0.05"
   ]
  },
  {
   "cell_type": "code",
   "execution_count": 40,
   "id": "d495488b",
   "metadata": {},
   "outputs": [
    {
     "name": "stdout",
     "output_type": "stream",
     "text": [
      "The p-value is 0.43204138694325955\n"
     ]
    }
   ],
   "source": [
    "from scipy.stats import f_oneway\n",
    "\n",
    "test_stat, p = stats.f_oneway(data_new[data_new['language_preferred']=='English']['time_spent_on_the_page'],\n",
    "                       data_new[data_new['language_preferred']=='French']['time_spent_on_the_page'],\n",
    "                       data_new[data_new['language_preferred']=='Spanish']['time_spent_on_the_page'])\n",
    "\n",
    "print('The p-value is', p)"
   ]
  },
  {
   "cell_type": "markdown",
   "id": "4dc810f6",
   "metadata": {},
   "source": [
    "* Inference: Since the p-value is greater than the 5% significance level we fail to reject the null hypothesis. Hence, we do not have enough statistical evidence to conclude that at least one of the mean times spent by a user on the new landing page with respect to preferred language is different from the others."
   ]
  },
  {
   "cell_type": "code",
   "execution_count": 41,
   "id": "4bd12d0c",
   "metadata": {},
   "outputs": [
    {
     "name": "stdout",
     "output_type": "stream",
     "text": [
      " Multiple Comparison of Means - Tukey HSD, FWER=0.05 \n",
      "=====================================================\n",
      " group1  group2 meandiff p-adj   lower  upper  reject\n",
      "-----------------------------------------------------\n",
      "English  French  -0.4673 0.7259 -2.0035  1.069  False\n",
      "English Spanish  -0.8285  0.401 -2.3647 0.7078  False\n",
      " French Spanish  -0.3612  0.816  -1.874 1.1516  False\n",
      "-----------------------------------------------------\n"
     ]
    }
   ],
   "source": [
    "# Perform Tukey HSD Test to confirm no difference in means\n",
    "\n",
    "from statsmodels.stats.multicomp import pairwise_tukeyhsd\n",
    "m_comp = pairwise_tukeyhsd(endog = data_new['time_spent_on_the_page'], groups=data_new['language_preferred'], alpha=0.05)\n",
    "print(m_comp)"
   ]
  },
  {
   "cell_type": "markdown",
   "id": "a245ee6b",
   "metadata": {},
   "source": [
    "* We can see from the Tukey HSD test that there is not much of a difference in mean between each pair of languages, confirming that the means are the same as earlier proven by ANOVA"
   ]
  },
  {
   "cell_type": "markdown",
   "id": "6c63afaa",
   "metadata": {},
   "source": [
    "# Conclusion and Business Recommendation"
   ]
  },
  {
   "cell_type": "markdown",
   "id": "8e5a6e37",
   "metadata": {},
   "source": [
    "### From our visual analysis and hypothesis testing, we can draw the following conclusion;\n",
    "\n",
    "* Users spend more time on the new landing page than the existing (old) landing page\n",
    "* The conversion rate among users who visit the new landing page is greater than among users who visit the old landing page\n",
    "* Despite this higher conversion rate among new page users than old page users, we do not have enough evidence to say that this is based on preferred language. Therefore, the conversion rate and preferred language are independent of each other from the data collected.\n",
    "* The mean time spent on the new landing page is the same for all three language users\n",
    "\n",
    "### The following recommendations are made to the business;\n",
    "* The new landing page was a success in general and the opinion of users who remained unconverted should be sought in a very simple survey to see how best their needs can be accomodated to enable them also transition to the new landing page\n",
    "* Since we cannot prove that conversion rate among new page users is related to preffered language, the option to choose any language when accessing the landing page should be kept open so that it is user-friendly to all\n"
   ]
  }
 ],
 "metadata": {
  "kernelspec": {
   "display_name": "Python 3 (ipykernel)",
   "language": "python",
   "name": "python3"
  },
  "language_info": {
   "codemirror_mode": {
    "name": "ipython",
    "version": 3
   },
   "file_extension": ".py",
   "mimetype": "text/x-python",
   "name": "python",
   "nbconvert_exporter": "python",
   "pygments_lexer": "ipython3",
   "version": "3.9.7"
  }
 },
 "nbformat": 4,
 "nbformat_minor": 5
}
